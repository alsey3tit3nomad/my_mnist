{
 "cells": [
  {
   "cell_type": "markdown",
   "id": "c73c2565",
   "metadata": {},
   "source": [
    "### Loading the dataset and normalizing it"
   ]
  },
  {
   "cell_type": "code",
   "execution_count": 1,
   "id": "5f6c5d4e",
   "metadata": {},
   "outputs": [],
   "source": [
    "import numpy as np\n",
    "from sklearn.datasets import fetch_openml\n",
    "\n",
    "\n",
    "X, y = fetch_openml('mnist_784', version=1, return_X_y=True)\n",
    "X = X.values\n",
    "y = y.astype(int).values\n",
    "X = (X - X.mean())/X.std()"
   ]
  },
  {
   "cell_type": "markdown",
   "id": "9175945a",
   "metadata": {},
   "source": [
    "### Split the data into train, validation, and test sets "
   ]
  },
  {
   "cell_type": "code",
   "execution_count": 2,
   "id": "7c3b9b3d",
   "metadata": {},
   "outputs": [],
   "source": [
    "from sklearn.model_selection import train_test_split\n",
    "\n",
    "\n",
    "X_temp, X_test, y_temp, y_test = train_test_split(\n",
    "    X, y, test_size=10000, random_state=123, stratify=y)\n",
    "\n",
    "X_train, X_valid, y_train, y_valid = train_test_split(\n",
    "    X_temp, y_temp, test_size=5000, random_state=123, stratify=y_temp)\n",
    "\n",
    "del X_temp, y_temp, X, y"
   ]
  },
  {
   "cell_type": "code",
   "execution_count": 3,
   "id": "e983376a",
   "metadata": {},
   "outputs": [],
   "source": [
    "# Sigmoid\n",
    "def sigma(z):\n",
    "    return 1. / (1 + np.exp(-z))\n",
    "\n",
    "# OHE (one-hot encoding) for the target, since it makes it easier to compute metrics\n",
    "def int_to_onehot(y, num_labels):\n",
    "    ary = np.zeros((y.shape[0], num_labels))\n",
    "    for i, val in enumerate(y):\n",
    "        ary[i, val] = 1\n",
    "    return ary\n",
    "\n",
    "class NeuralNetMLP:\n",
    "    # Weights initialization\n",
    "    def __init__(self, n_features, n_hidden, n_classes, random_seed=123, learning_rate=0.1):\n",
    "        self.learning_rate = learning_rate\n",
    "        self.rng = np.random.RandomState(random_seed)\n",
    "        self.n_features = n_features\n",
    "        self.n_cl = n_classes\n",
    "        self.n_hidden = n_hidden\n",
    "        self.weights_h = self.rng.normal(loc=0.0, scale =0.1, size=(self.n_hidden, self.n_features))\n",
    "        self.bias_h = np.zeros(self.n_hidden)\n",
    "        self.weights_out = self.rng.normal(loc = 0.0, scale=0.1, size=(self.n_cl, self.n_hidden))\n",
    "        self.bias_out = np.zeros(self.n_cl)\n",
    "\n",
    "    # Forward pass through the network -- compute inference for x\n",
    "    def forward(self, x):\n",
    "        z_h = np.dot(x, self.weights_h.T) + self.bias_h\n",
    "        a_h = sigma(z_h)\n",
    "        z_out = np.dot(a_h, self.weights_out.T) + self.bias_out\n",
    "        a_out = sigma(z_out)\n",
    "        return a_h, a_out\n",
    "\n",
    "    # Go 'backward' through the network - compute gradients for all weights\n",
    "    def backward(self, x, a_h, a_out, y):\n",
    "        y = int_to_onehot(y, self.n_cl)\n",
    "\n",
    "        # out_layer\n",
    "        d_L_d_a_out = -2. * (y - a_out)/y.shape[0]\n",
    "        d_a_out_d_z_out = a_out * (1. - a_out)\n",
    "        d_l_d_z_out = d_L_d_a_out * d_a_out_d_z_out\n",
    "        d_L_d_w_out = np.dot((d_l_d_z_out).T, a_h)\n",
    "        d_L_d_b_out = np.sum(d_l_d_z_out, axis=0)\n",
    "\n",
    "        #hidden_layer\n",
    "        d_z_out_d_a_h = self.weights_out\n",
    "        d_a_h_d_z_h = a_h * (1. - a_h)\n",
    "        d_l_d_a_h = np.dot((d_l_d_z_out), d_z_out_d_a_h)\n",
    "        d_L_d_w_h = np.dot((d_l_d_a_h * d_a_h_d_z_h).T, x)\n",
    "        d_L_d_b_h = np.sum(d_l_d_a_h * d_a_h_d_z_h, axis=0)\n",
    "        return (d_L_d_w_out, d_L_d_b_out, d_L_d_w_h, d_L_d_b_h)\n",
    "\n",
    "    # Implementation of SGD: compute gradients for x and update the weights\n",
    "    def partial_fit(self, x, y):\n",
    "        a_h, a_out = self.forward(x)\n",
    "        d_L_d_w_out, d_L_d_b_out, d_L_d_w_h, d_L_d_b_h = self.backward(x, a_h, a_out, y)\n",
    "        self.weights_h -= self.learning_rate * d_L_d_w_h\n",
    "        self.bias_h -= self.learning_rate * d_L_d_b_h\n",
    "        self.weights_out -= self.learning_rate * d_L_d_w_out\n",
    "        self.bias_out -= self.learning_rate * d_L_d_b_out\n",
    "        return self\n",
    "\n",
    "    # Mini-batch generator\n",
    "    def _mini_batch_generator(self, X, Y, size_batch):\n",
    "        idx = np.arange(X.shape[0])\n",
    "        np.random.shuffle(idx)\n",
    "        for i in range(0, idx.shape[0] - size_batch + 1, size_batch):\n",
    "            idxi = idx[i:i + size_batch]\n",
    "            yield X[idxi], Y[idxi]\n",
    "\n",
    "    # Combine the mini-batch generator and SGD: train for n epochs using mini-batches of size size_batch\n",
    "    def minibatch_fit(self, X, Y, n_epoch, size_batch = 32):\n",
    "        for _ in range(n_epoch):\n",
    "            minibatch_gen = self._mini_batch_generator(X, Y, size_batch)\n",
    "            for x, y in minibatch_gen:\n",
    "                self.partial_fit(x, y)\n",
    "        return self"
   ]
  },
  {
   "cell_type": "code",
   "execution_count": 4,
   "id": "26843f45",
   "metadata": {},
   "outputs": [],
   "source": [
    "model = NeuralNetMLP(n_features=28*28,\n",
    "                     n_hidden=50,\n",
    "                     n_classes=10)"
   ]
  },
  {
   "cell_type": "code",
   "execution_count": 5,
   "id": "b3550e38",
   "metadata": {},
   "outputs": [],
   "source": [
    "def mse_loss(targets, infl, num_labels=10):\n",
    "    onehot_targets = int_to_onehot(targets, num_labels=num_labels)\n",
    "    return np.mean((onehot_targets - infl)**2)\n",
    "\n",
    "def accuracy(targets, predicted_labels):\n",
    "    return np.mean(predicted_labels == targets)\n",
    "\n",
    "_, infl = model.forward(X_valid)\n",
    "mse = mse_loss(y_valid, infl)\n",
    "\n",
    "predicted_labels = np.argmax(infl, axis=1)\n",
    "acc = accuracy(y_valid, predicted_labels)"
   ]
  },
  {
   "cell_type": "code",
   "execution_count": 6,
   "id": "309c27b0",
   "metadata": {},
   "outputs": [
    {
     "name": "stdout",
     "output_type": "stream",
     "text": [
      "Validation MSE: 0.3\n",
      "Validation accuracy: 10.7%\n"
     ]
    }
   ],
   "source": [
    "print(f'Validation MSE: {mse:.1f}')\n",
    "print(f'Validation accuracy: {acc*100:.1f}%')"
   ]
  },
  {
   "cell_type": "code",
   "execution_count": 7,
   "id": "04b33066",
   "metadata": {},
   "outputs": [
    {
     "data": {
      "text/plain": [
       "<__main__.NeuralNetMLP at 0x79e4d9ec52e0>"
      ]
     },
     "execution_count": 7,
     "metadata": {},
     "output_type": "execute_result"
    }
   ],
   "source": [
    "model.minibatch_fit(X_train, y_train, n_epoch=50, size_batch=32)"
   ]
  },
  {
   "cell_type": "code",
   "execution_count": 8,
   "id": "69f50aac",
   "metadata": {},
   "outputs": [],
   "source": [
    "_, infl = model.forward(X_valid)\n",
    "mse = mse_loss(y_valid, infl)\n",
    "\n",
    "predicted_labels = np.argmax(infl, axis=1)\n",
    "acc = accuracy(y_valid, predicted_labels)"
   ]
  },
  {
   "cell_type": "code",
   "execution_count": 9,
   "id": "d20097d0",
   "metadata": {},
   "outputs": [
    {
     "name": "stdout",
     "output_type": "stream",
     "text": [
      "Validation MSE: 0.0\n",
      "Validation accuracy: 96.5%\n"
     ]
    }
   ],
   "source": [
    "print(f'Validation MSE: {mse:.1f}')\n",
    "print(f'Validation accuracy: {acc*100:.1f}%')"
   ]
  },
  {
   "cell_type": "code",
   "execution_count": 10,
   "id": "6ca2039c",
   "metadata": {},
   "outputs": [
    {
     "name": "stdout",
     "output_type": "stream",
     "text": [
      "Test MSE: 0.0\n",
      "Test accuracy: 96.1%\n"
     ]
    }
   ],
   "source": [
    "_, infl = model.forward(X_test)\n",
    "mse = mse_loss(y_test, infl)\n",
    "\n",
    "predicted_labels = np.argmax(infl, axis=1)\n",
    "acc = accuracy(y_test, predicted_labels)\n",
    "print(f'Test MSE: {mse:.1f}')\n",
    "print(f'Test accuracy: {acc*100:.1f}%')"
   ]
  },
  {
   "cell_type": "code",
   "execution_count": 11,
   "id": "c016a537",
   "metadata": {},
   "outputs": [],
   "source": [
    "misclassified_images = X_test[y_test != predicted_labels][:25]\n",
    "misclassified_labels = predicted_labels[y_test != predicted_labels][:25]\n",
    "correct_labels1 = y_test[y_test != predicted_labels][:25]"
   ]
  },
  {
   "cell_type": "code",
   "execution_count": 12,
   "id": "fff417f4",
   "metadata": {},
   "outputs": [],
   "source": [
    "classified_images = X_test[y_test == predicted_labels][:25]\n",
    "classified_labels =  predicted_labels[y_test == predicted_labels][:25]\n",
    "correct_labels2 =  predicted_labels[y_test == predicted_labels][:25]"
   ]
  },
  {
   "cell_type": "code",
   "execution_count": 13,
   "id": "e6c33d2d",
   "metadata": {},
   "outputs": [],
   "source": [
    "import matplotlib.pyplot as plt"
   ]
  },
  {
   "cell_type": "markdown",
   "id": "979e6aab",
   "metadata": {},
   "source": [
    "### Print some examples that were misclassified"
   ]
  },
  {
   "cell_type": "code",
   "execution_count": 14,
   "id": "929e9e01",
   "metadata": {},
   "outputs": [
    {
     "data": {
      "image/png": "[encoded data removed]",
      "text/plain": [
       "<Figure size 800x800 with 25 Axes>"
      ]
     },
     "metadata": {},
     "output_type": "display_data"
    }
   ],
   "source": [
    "fig, ax = plt.subplots(nrows=5, ncols=5,\n",
    "                       sharex=True, sharey=True, figsize=(8, 8))\n",
    "ax = ax.flatten()\n",
    "for i in range(25):\n",
    "    img = misclassified_images[i].reshape(28, 28)\n",
    "    ax[i].imshow(img, cmap='Greys', interpolation='nearest')\n",
    "    ax[i].set_title(f'{i+1}) '\n",
    "                    f'True: {correct_labels1[i]}\\n'\n",
    "                    f' Predicted: {misclassified_labels[i]}')\n",
    "\n",
    "ax[0].set_xticks([])\n",
    "ax[0].set_yticks([])\n",
    "plt.tight_layout()\n",
    "plt.show()"
   ]
  },
  {
   "cell_type": "markdown",
   "id": "1ff7bcf8",
   "metadata": {},
   "source": [
    "### Print some examples that were classified"
   ]
  },
  {
   "cell_type": "code",
   "execution_count": 15,
   "id": "dc6c2a02",
   "metadata": {},
   "outputs": [
    {
     "data": {
      "image/png": "[encoded data removed]",
      "text/plain": [
       "<Figure size 800x800 with 25 Axes>"
      ]
     },
     "metadata": {},
     "output_type": "display_data"
    }
   ],
   "source": [
    "fig, ax = plt.subplots(nrows=5, ncols=5,\n",
    "                       sharex=True, sharey=True, figsize=(8, 8))\n",
    "ax = ax.flatten()\n",
    "for i in range(25):\n",
    "    img = classified_images[i].reshape(28, 28)\n",
    "    ax[i].imshow(img, cmap='Greys', interpolation='nearest')\n",
    "    ax[i].set_title(f'{i+1}) '\n",
    "                    f'True: {correct_labels2[i]}\\n'\n",
    "                    f' Predicted: {classified_labels[i]}')\n",
    "\n",
    "ax[0].set_xticks([])\n",
    "ax[0].set_yticks([])\n",
    "plt.tight_layout()\n",
    "plt.show()"
   ]
  },
  {
   "cell_type": "markdown",
   "id": "33a114d0",
   "metadata": {},
   "source": [
    "### Now I'm loading everything for PyTorch"
   ]
  },
  {
   "cell_type": "code",
   "execution_count": 16,
   "id": "6c9c818d",
   "metadata": {},
   "outputs": [],
   "source": [
    "import numpy as np\n",
    "import torch\n",
    "import torch.nn as nn\n",
    "from IPython.display import Image\n",
    "import torchvision\n",
    "from torchvision import transforms\n",
    "from torch.nn.functional import one_hot\n",
    "from torch.utils.data import DataLoader, Subset\n",
    "\n",
    "\n",
    "image_path = './'\n",
    "transform = transforms.Compose([transforms.ToTensor()])\n",
    "\n",
    "mnist_dataset = torchvision.datasets.MNIST(root=image_path,\n",
    "                                           train=True,\n",
    "                                           transform=transform,\n",
    "                                           download=True)\n",
    "\n",
    "mnist_valid_dataset = Subset(mnist_dataset, torch.arange(10000))\n",
    "mnist_train_dataset = Subset(mnist_dataset, torch.arange(10000, len(mnist_dataset)))\n",
    "mnist_test_dataset = torchvision.datasets.MNIST(root=image_path,\n",
    "                                           train=False,\n",
    "                                           transform=transform,\n",
    "                                           download=False)\n",
    "\n",
    "batch_size = 64\n",
    "torch.manual_seed(1)\n",
    "train_dl = DataLoader(mnist_train_dataset, batch_size, shuffle=True)\n",
    "valid_dl = DataLoader(mnist_valid_dataset, batch_size, shuffle=False)"
   ]
  },
  {
   "cell_type": "code",
   "execution_count": 17,
   "id": "911a0892",
   "metadata": {},
   "outputs": [],
   "source": [
    "class torch_NeuralNetMLP(nn.Module):\n",
    "    def __init__(self, hidden_units):\n",
    "        super().__init__()\n",
    "        self.hidden_units = hidden_units # Number of neurons in hidden layers\n",
    "        image_size = mnist_train_dataset[0][0].shape\n",
    "        input_size = image_size[0] * image_size[1] * image_size[2]\n",
    "\n",
    "        all_layers = [nn.Flatten()]\n",
    "        for hidden_unit in hidden_units:        # Initializing hidden layers\n",
    "            layer = nn.Linear(input_size, hidden_unit)\n",
    "            all_layers.append(layer)\n",
    "            all_layers.append(nn.ReLU())\n",
    "            input_size = hidden_unit\n",
    "\n",
    "        all_layers.append(nn.Linear(hidden_units[-1], 10))  #Output layer + softmax\n",
    "        all_layers.append(torch.nn.Softmax(1))\n",
    "        self.model = nn.Sequential(*all_layers)\n",
    "\n",
    "    def forward(self, x):\n",
    "        return self.model(x)\n",
    "\n",
    "\n",
    "hidden_units = [50, 25]\n",
    "torch_model = torch_NeuralNetMLP(hidden_units=hidden_units)"
   ]
  },
  {
   "cell_type": "code",
   "execution_count": 18,
   "id": "180fbcc3",
   "metadata": {},
   "outputs": [],
   "source": [
    "device = torch.device(\"cuda:0\")\n",
    "torch_model = torch_model.to(device)"
   ]
  },
  {
   "cell_type": "markdown",
   "id": "396d3181",
   "metadata": {},
   "source": [
    "### Initializing loss and optimizer: cross-entropy and Adam"
   ]
  },
  {
   "cell_type": "code",
   "execution_count": 19,
   "id": "f1053f3f",
   "metadata": {},
   "outputs": [],
   "source": [
    "loss_fn = nn.CrossEntropyLoss()\n",
    "optimizer = torch.optim.Adam(torch_model.parameters(), lr=0.001)"
   ]
  },
  {
   "cell_type": "code",
   "execution_count": null,
   "id": "0fcd8375",
   "metadata": {},
   "outputs": [],
   "source": [
    "def train(model, num_epochs, train_dl, valid_dl, loss_fn, optimizer):\n",
    "    loss_hist_train = [0 for i in range(num_epochs)]\n",
    "    accuracy_hist_train = [0 for i in range(num_epochs)]\n",
    "    loss_hist_valid = [0 for i in range(num_epochs)]\n",
    "    accuracy_hist_valid = [0 for i in range(num_epochs)]\n",
    "    for epoch in range(num_epochs):\n",
    "        model.train()\n",
    "        for x_batch, y_batch in train_dl:\n",
    "            x_batch = x_batch.to(device)\n",
    "            y_batch = y_batch.to(device)\n",
    "            pred = model(x_batch)\n",
    "            loss = loss_fn(pred, y_batch)\n",
    "            optimizer.zero_grad()\n",
    "            loss.backward()\n",
    "            optimizer.step()\n",
    "            loss_hist_train[epoch] += loss.item() * y_batch.size(0)\n",
    "            is_correct = (torch.argmax(pred, dim=1) == y_batch).float()\n",
    "            accuracy_hist_train[epoch] += is_correct.sum().cpu()\n",
    "\n",
    "        loss_hist_train[epoch] /= len(train_dl.dataset)\n",
    "        accuracy_hist_train[epoch] /= len(train_dl.dataset)\n",
    "\n",
    "        model.eval()\n",
    "        with torch.no_grad():\n",
    "            for x_batch, y_batch in valid_dl:\n",
    "                x_batch = x_batch.to(device)\n",
    "                y_batch = y_batch.to(device)\n",
    "                pred = model(x_batch)\n",
    "                loss = loss_fn(pred, y_batch)\n",
    "                loss_hist_valid[epoch] += loss.item() * y_batch.size(0)\n",
    "                is_correct = (torch.argmax(pred, dim=1) == y_batch).float()\n",
    "                accuracy_hist_valid[epoch] += is_correct.sum().cpu()\n",
    "        loss_hist_valid[epoch] /= len(valid_dl.dataset)\n",
    "        accuracy_hist_valid[epoch] /= len(valid_dl.dataset)\n",
    "        print(f'Epoch {epoch + 1} accuracy_train: {accuracy_hist_train[epoch]} accuracy_valid: {accuracy_hist_valid[epoch]}')\n",
    "    return loss_hist_train, accuracy_hist_train, loss_hist_valid, accuracy_hist_valid"
   ]
  },
  {
   "cell_type": "markdown",
   "id": "cd087fc6",
   "metadata": {},
   "source": [
    "### Training and saving results for epochs"
   ]
  },
  {
   "cell_type": "code",
   "execution_count": 21,
   "id": "ab1c0eb3",
   "metadata": {},
   "outputs": [
    {
     "name": "stdout",
     "output_type": "stream",
     "text": [
      "Epoch 1 accuracy_train: 0.8196399807929993 accuracy_valid: 0.9160000085830688\n",
      "Epoch 2 accuracy_train: 0.9205999970436096 accuracy_valid: 0.9257000088691711\n",
      "Epoch 3 accuracy_train: 0.9304999709129333 accuracy_valid: 0.9350000023841858\n",
      "Epoch 4 accuracy_train: 0.9380800127983093 accuracy_valid: 0.9398999810218811\n",
      "Epoch 5 accuracy_train: 0.9447399973869324 accuracy_valid: 0.9413999915122986\n",
      "Epoch 6 accuracy_train: 0.9494600296020508 accuracy_valid: 0.9456999897956848\n",
      "Epoch 7 accuracy_train: 0.9528200030326843 accuracy_valid: 0.949999988079071\n",
      "Epoch 8 accuracy_train: 0.9572799801826477 accuracy_valid: 0.9509000182151794\n",
      "Epoch 9 accuracy_train: 0.9600600004196167 accuracy_valid: 0.953000009059906\n",
      "Epoch 10 accuracy_train: 0.9628199934959412 accuracy_valid: 0.9556000232696533\n",
      "Epoch 11 accuracy_train: 0.9659600257873535 accuracy_valid: 0.9545999765396118\n",
      "Epoch 12 accuracy_train: 0.9669399857521057 accuracy_valid: 0.95660001039505\n",
      "Epoch 13 accuracy_train: 0.9697200059890747 accuracy_valid: 0.9562000036239624\n",
      "Epoch 14 accuracy_train: 0.9708999991416931 accuracy_valid: 0.9593999981880188\n",
      "Epoch 15 accuracy_train: 0.9722800254821777 accuracy_valid: 0.9585999846458435\n",
      "Epoch 16 accuracy_train: 0.9741600155830383 accuracy_valid: 0.9598000049591064\n",
      "Epoch 17 accuracy_train: 0.9754800200462341 accuracy_valid: 0.9617999792098999\n",
      "Epoch 18 accuracy_train: 0.9766600131988525 accuracy_valid: 0.963100016117096\n",
      "Epoch 19 accuracy_train: 0.9774399995803833 accuracy_valid: 0.9642000198364258\n",
      "Epoch 20 accuracy_train: 0.9786199927330017 accuracy_valid: 0.9631999731063843\n",
      "Epoch 21 accuracy_train: 0.9789599776268005 accuracy_valid: 0.9643999934196472\n",
      "Epoch 22 accuracy_train: 0.9801999926567078 accuracy_valid: 0.9634000062942505\n",
      "Epoch 23 accuracy_train: 0.9811800122261047 accuracy_valid: 0.9649999737739563\n",
      "Epoch 24 accuracy_train: 0.9811999797821045 accuracy_valid: 0.9641000032424927\n",
      "Epoch 25 accuracy_train: 0.9814199805259705 accuracy_valid: 0.9653000235557556\n",
      "Epoch 26 accuracy_train: 0.981660008430481 accuracy_valid: 0.9660000205039978\n",
      "Epoch 27 accuracy_train: 0.9832199811935425 accuracy_valid: 0.9667999744415283\n",
      "Epoch 28 accuracy_train: 0.983020007610321 accuracy_valid: 0.9657999873161316\n",
      "Epoch 29 accuracy_train: 0.9828400015830994 accuracy_valid: 0.967199981212616\n",
      "Epoch 30 accuracy_train: 0.9834399819374084 accuracy_valid: 0.965499997138977\n",
      "Epoch 31 accuracy_train: 0.984499990940094 accuracy_valid: 0.9678000211715698\n",
      "Epoch 32 accuracy_train: 0.9848999977111816 accuracy_valid: 0.96670001745224\n",
      "Epoch 33 accuracy_train: 0.9842000007629395 accuracy_valid: 0.960099995136261\n",
      "Epoch 34 accuracy_train: 0.9846600294113159 accuracy_valid: 0.9664000272750854\n",
      "Epoch 35 accuracy_train: 0.9850000143051147 accuracy_valid: 0.9678999781608582\n",
      "Epoch 36 accuracy_train: 0.9857400059700012 accuracy_valid: 0.967199981212616\n",
      "Epoch 37 accuracy_train: 0.9855800271034241 accuracy_valid: 0.9625999927520752\n",
      "Epoch 38 accuracy_train: 0.9861999750137329 accuracy_valid: 0.9677000045776367\n",
      "Epoch 39 accuracy_train: 0.9851400256156921 accuracy_valid: 0.9689000248908997\n",
      "Epoch 40 accuracy_train: 0.9863399863243103 accuracy_valid: 0.9689000248908997\n",
      "Epoch 41 accuracy_train: 0.9868199825286865 accuracy_valid: 0.9660999774932861\n",
      "Epoch 42 accuracy_train: 0.986840009689331 accuracy_valid: 0.9646000266075134\n",
      "Epoch 43 accuracy_train: 0.9866999983787537 accuracy_valid: 0.9682999849319458\n",
      "Epoch 44 accuracy_train: 0.9876000285148621 accuracy_valid: 0.9693999886512756\n",
      "Epoch 45 accuracy_train: 0.9874600172042847 accuracy_valid: 0.9678999781608582\n",
      "Epoch 46 accuracy_train: 0.9871000051498413 accuracy_valid: 0.9672999978065491\n",
      "Epoch 47 accuracy_train: 0.987559974193573 accuracy_valid: 0.9670000076293945\n",
      "Epoch 48 accuracy_train: 0.9872000217437744 accuracy_valid: 0.9696999788284302\n",
      "Epoch 49 accuracy_train: 0.9878000020980835 accuracy_valid: 0.9688000082969666\n",
      "Epoch 50 accuracy_train: 0.9877600073814392 accuracy_valid: 0.9674000144004822\n"
     ]
    }
   ],
   "source": [
    "torch.manual_seed(1)\n",
    "num_epochs = 50\n",
    "hists = train(torch_model,\n",
    "              num_epochs=num_epochs,\n",
    "              train_dl=train_dl,\n",
    "              valid_dl=valid_dl,\n",
    "              loss_fn=loss_fn,\n",
    "              optimizer=optimizer)"
   ]
  },
  {
   "cell_type": "markdown",
   "id": "173e5146",
   "metadata": {},
   "source": [
    "### Visualizing accuracy for each epoch. You can see how the metric improves during training."
   ]
  },
  {
   "cell_type": "code",
   "execution_count": 22,
   "id": "b099695d",
   "metadata": {},
   "outputs": [
    {
     "data": {
      "application/vnd.plotly.v1+json": {
       "config": {
        "plotlyServerURL": "https://plot.ly"
       },
       "data": [
        {
         "marker": {
          "symbol": "circle"
         },
         "mode": "lines+markers",
         "name": "Train loss",
         "type": "scatter",
         "x": {
          "bdata": "AAECAwQFBgcICQoLDA0ODxAREhMUFRYXGBkaGxwdHh8gISIjJCUmJygpKissLS4vMDEy",
          "dtype": "i1"
         },
         "xaxis": "x",
         "y": [
          1.6732447326660156,
          1.5490292308425904,
          1.5360499211502074,
          1.5272677739334106,
          1.5203442404174805,
          1.5149971188354492,
          1.5108697882461548,
          1.5066258668518067,
          1.5035162942504883,
          1.500530414428711,
          1.4976538817596436,
          1.49599909324646,
          1.4935884594726563,
          1.4920353325653075,
          1.4903203798675537,
          1.4884424554824829,
          1.4872360918807983,
          1.4861706008529663,
          1.4850290478515624,
          1.4838978718948364,
          1.4835878077697753,
          1.4823986689758302,
          1.4810253427886964,
          1.4810807924652098,
          1.4805794215774537,
          1.4804245642471314,
          1.4789424941253662,
          1.478917267074585,
          1.479047512550354,
          1.4784335553741454,
          1.4774723484039307,
          1.4769457541275024,
          1.4775899899673461,
          1.4771379754257201,
          1.4767776963043213,
          1.4759968551635743,
          1.476041733856201,
          1.475696025466919,
          1.476550562210083,
          1.4752455922698975,
          1.4748279133605957,
          1.4748563543319702,
          1.4749044898605346,
          1.4741122694015503,
          1.4741351695251466,
          1.4746085232162476,
          1.4739010808181763,
          1.4743000798416137,
          1.4736557315063477,
          1.473782474899292
         ],
         "yaxis": "y"
        },
        {
         "marker": {
          "symbol": "triangle-left"
         },
         "mode": "lines+markers",
         "name": "Valid loss",
         "type": "scatter",
         "x": {
          "bdata": "AAECAwQFBgcICQoLDA0ODxAREhMUFRYXGBkaGxwdHh8gISIjJCUmJygpKissLS4vMDEy",
          "dtype": "i1"
         },
         "xaxis": "x",
         "y": [
          1.5555843551635742,
          1.5407544187545776,
          1.5312293169021607,
          1.5238700546264647,
          1.522924680519104,
          1.5179456506729125,
          1.5134428281784058,
          1.5122528322219848,
          1.509387017250061,
          1.5076423099517822,
          1.5078131795883178,
          1.505669114112854,
          1.5058824382781983,
          1.5026812984466553,
          1.5031640895843505,
          1.5019423282623292,
          1.5004521425247193,
          1.4985780193328857,
          1.4977530086517334,
          1.499169806098938,
          1.4970185028076173,
          1.49872363986969,
          1.496444157218933,
          1.4974615175247192,
          1.4964012664794921,
          1.4948716625213623,
          1.4950915397644042,
          1.4956658449172973,
          1.494589554786682,
          1.4966449342727661,
          1.493786368370056,
          1.4953042903900147,
          1.5019311071395873,
          1.4948864486694335,
          1.4938856477737428,
          1.494322883796692,
          1.4986635431289672,
          1.4938242458343507,
          1.4929796106338502,
          1.4928409378051757,
          1.4946077619552611,
          1.4963362329483032,
          1.4933931623458863,
          1.4926576265335083,
          1.4934342344284057,
          1.4938835721969606,
          1.4939985622406007,
          1.4921331592559814,
          1.4926400289535522,
          1.493520886039734
         ],
         "yaxis": "y"
        },
        {
         "marker": {
          "symbol": "circle"
         },
         "mode": "lines+markers",
         "name": "Train accuracy",
         "type": "scatter",
         "x": {
          "bdata": "AAECAwQFBgcICQoLDA0ODxAREhMUFRYXGBkaGxwdHh8gISIjJCUmJygpKissLS4vMDEy",
          "dtype": "i1"
         },
         "xaxis": "x2",
         "y": [
          0.8196399807929993,
          0.9205999970436096,
          0.9304999709129333,
          0.9380800127983093,
          0.9447399973869324,
          0.9494600296020508,
          0.9528200030326843,
          0.9572799801826477,
          0.9600600004196167,
          0.9628199934959412,
          0.9659600257873535,
          0.9669399857521057,
          0.9697200059890747,
          0.9708999991416931,
          0.9722800254821777,
          0.9741600155830383,
          0.9754800200462341,
          0.9766600131988525,
          0.9774399995803833,
          0.9786199927330017,
          0.9789599776268005,
          0.9801999926567078,
          0.9811800122261047,
          0.9811999797821045,
          0.9814199805259705,
          0.981660008430481,
          0.9832199811935425,
          0.983020007610321,
          0.9828400015830994,
          0.9834399819374084,
          0.984499990940094,
          0.9848999977111816,
          0.9842000007629395,
          0.9846600294113159,
          0.9850000143051147,
          0.9857400059700012,
          0.9855800271034241,
          0.9861999750137329,
          0.9851400256156921,
          0.9863399863243103,
          0.9868199825286865,
          0.986840009689331,
          0.9866999983787537,
          0.9876000285148621,
          0.9874600172042847,
          0.9871000051498413,
          0.987559974193573,
          0.9872000217437744,
          0.9878000020980835,
          0.9877600073814392
         ],
         "yaxis": "y2"
        },
        {
         "marker": {
          "symbol": "triangle-left"
         },
         "mode": "lines+markers",
         "name": "Valid accuracy",
         "type": "scatter",
         "x": {
          "bdata": "AAECAwQFBgcICQoLDA0ODxAREhMUFRYXGBkaGxwdHh8gISIjJCUmJygpKissLS4vMDEy",
          "dtype": "i1"
         },
         "xaxis": "x2",
         "y": [
          0.9160000085830688,
          0.9257000088691711,
          0.9350000023841858,
          0.9398999810218811,
          0.9413999915122986,
          0.9456999897956848,
          0.949999988079071,
          0.9509000182151794,
          0.953000009059906,
          0.9556000232696533,
          0.9545999765396118,
          0.95660001039505,
          0.9562000036239624,
          0.9593999981880188,
          0.9585999846458435,
          0.9598000049591064,
          0.9617999792098999,
          0.963100016117096,
          0.9642000198364258,
          0.9631999731063843,
          0.9643999934196472,
          0.9634000062942505,
          0.9649999737739563,
          0.9641000032424927,
          0.9653000235557556,
          0.9660000205039978,
          0.9667999744415283,
          0.9657999873161316,
          0.967199981212616,
          0.965499997138977,
          0.9678000211715698,
          0.96670001745224,
          0.960099995136261,
          0.9664000272750854,
          0.9678999781608582,
          0.967199981212616,
          0.9625999927520752,
          0.9677000045776367,
          0.9689000248908997,
          0.9689000248908997,
          0.9660999774932861,
          0.9646000266075134,
          0.9682999849319458,
          0.9693999886512756,
          0.9678999781608582,
          0.9672999978065491,
          0.9670000076293945,
          0.9696999788284302,
          0.9688000082969666,
          0.9674000144004822
         ],
         "yaxis": "y2"
        }
       ],
       "layout": {
        "annotations": [
         {
          "font": {
           "size": 16
          },
          "showarrow": false,
          "text": "Loss",
          "x": 0.225,
          "xanchor": "center",
          "xref": "paper",
          "y": 1,
          "yanchor": "bottom",
          "yref": "paper"
         },
         {
          "font": {
           "size": 16
          },
          "showarrow": false,
          "text": "Accuracy",
          "x": 0.775,
          "xanchor": "center",
          "xref": "paper",
          "y": 1,
          "yanchor": "bottom",
          "yref": "paper"
         }
        ],
        "height": 400,
        "legend": {
         "font": {
          "size": 14
         }
        },
        "template": {
         "data": {
          "bar": [
           {
            "error_x": {
             "color": "#2a3f5f"
            },
            "error_y": {
             "color": "#2a3f5f"
            },
            "marker": {
             "line": {
              "color": "#E5ECF6",
              "width": 0.5
             },
             "pattern": {
              "fillmode": "overlay",
              "size": 10,
              "solidity": 0.2
             }
            },
            "type": "bar"
           }
          ],
          "barpolar": [
           {
            "marker": {
             "line": {
              "color": "#E5ECF6",
              "width": 0.5
             },
             "pattern": {
              "fillmode": "overlay",
              "size": 10,
              "solidity": 0.2
             }
            },
            "type": "barpolar"
           }
          ],
          "carpet": [
           {
            "aaxis": {
             "endlinecolor": "#2a3f5f",
             "gridcolor": "white",
             "linecolor": "white",
             "minorgridcolor": "white",
             "startlinecolor": "#2a3f5f"
            },
            "baxis": {
             "endlinecolor": "#2a3f5f",
             "gridcolor": "white",
             "linecolor": "white",
             "minorgridcolor": "white",
             "startlinecolor": "#2a3f5f"
            },
            "type": "carpet"
           }
          ],
          "choropleth": [
           {
            "colorbar": {
             "outlinewidth": 0,
             "ticks": ""
            },
            "type": "choropleth"
           }
          ],
          "contour": [
           {
            "colorbar": {
             "outlinewidth": 0,
             "ticks": ""
            },
            "colorscale": [
             [
              0,
              "#0d0887"
             ],
             [
              0.1111111111111111,
              "#46039f"
             ],
             [
              0.2222222222222222,
              "#7201a8"
             ],
             [
              0.3333333333333333,
              "#9c179e"
             ],
             [
              0.4444444444444444,
              "#bd3786"
             ],
             [
              0.5555555555555556,
              "#d8576b"
             ],
             [
              0.6666666666666666,
              "#ed7953"
             ],
             [
              0.7777777777777778,
              "#fb9f3a"
             ],
             [
              0.8888888888888888,
              "#fdca26"
             ],
             [
              1,
              "#f0f921"
             ]
            ],
            "type": "contour"
           }
          ],
          "contourcarpet": [
           {
            "colorbar": {
             "outlinewidth": 0,
             "ticks": ""
            },
            "type": "contourcarpet"
           }
          ],
          "heatmap": [
           {
            "colorbar": {
             "outlinewidth": 0,
             "ticks": ""
            },
            "colorscale": [
             [
              0,
              "#0d0887"
             ],
             [
              0.1111111111111111,
              "#46039f"
             ],
             [
              0.2222222222222222,
              "#7201a8"
             ],
             [
              0.3333333333333333,
              "#9c179e"
             ],
             [
              0.4444444444444444,
              "#bd3786"
             ],
             [
              0.5555555555555556,
              "#d8576b"
             ],
             [
              0.6666666666666666,
              "#ed7953"
             ],
             [
              0.7777777777777778,
              "#fb9f3a"
             ],
             [
              0.8888888888888888,
              "#fdca26"
             ],
             [
              1,
              "#f0f921"
             ]
            ],
            "type": "heatmap"
           }
          ],
          "histogram": [
           {
            "marker": {
             "pattern": {
              "fillmode": "overlay",
              "size": 10,
              "solidity": 0.2
             }
            },
            "type": "histogram"
           }
          ],
          "histogram2d": [
           {
            "colorbar": {
             "outlinewidth": 0,
             "ticks": ""
            },
            "colorscale": [
             [
              0,
              "#0d0887"
             ],
             [
              0.1111111111111111,
              "#46039f"
             ],
             [
              0.2222222222222222,
              "#7201a8"
             ],
             [
              0.3333333333333333,
              "#9c179e"
             ],
             [
              0.4444444444444444,
              "#bd3786"
             ],
             [
              0.5555555555555556,
              "#d8576b"
             ],
             [
              0.6666666666666666,
              "#ed7953"
             ],
             [
              0.7777777777777778,
              "#fb9f3a"
             ],
             [
              0.8888888888888888,
              "#fdca26"
             ],
             [
              1,
              "#f0f921"
             ]
            ],
            "type": "histogram2d"
           }
          ],
          "histogram2dcontour": [
           {
            "colorbar": {
             "outlinewidth": 0,
             "ticks": ""
            },
            "colorscale": [
             [
              0,
              "#0d0887"
             ],
             [
              0.1111111111111111,
              "#46039f"
             ],
             [
              0.2222222222222222,
              "#7201a8"
             ],
             [
              0.3333333333333333,
              "#9c179e"
             ],
             [
              0.4444444444444444,
              "#bd3786"
             ],
             [
              0.5555555555555556,
              "#d8576b"
             ],
             [
              0.6666666666666666,
              "#ed7953"
             ],
             [
              0.7777777777777778,
              "#fb9f3a"
             ],
             [
              0.8888888888888888,
              "#fdca26"
             ],
             [
              1,
              "#f0f921"
             ]
            ],
            "type": "histogram2dcontour"
           }
          ],
          "mesh3d": [
           {
            "colorbar": {
             "outlinewidth": 0,
             "ticks": ""
            },
            "type": "mesh3d"
           }
          ],
          "parcoords": [
           {
            "line": {
             "colorbar": {
              "outlinewidth": 0,
              "ticks": ""
             }
            },
            "type": "parcoords"
           }
          ],
          "pie": [
           {
            "automargin": true,
            "type": "pie"
           }
          ],
          "scatter": [
           {
            "fillpattern": {
             "fillmode": "overlay",
             "size": 10,
             "solidity": 0.2
            },
            "type": "scatter"
           }
          ],
          "scatter3d": [
           {
            "line": {
             "colorbar": {
              "outlinewidth": 0,
              "ticks": ""
             }
            },
            "marker": {
             "colorbar": {
              "outlinewidth": 0,
              "ticks": ""
             }
            },
            "type": "scatter3d"
           }
          ],
          "scattercarpet": [
           {
            "marker": {
             "colorbar": {
              "outlinewidth": 0,
              "ticks": ""
             }
            },
            "type": "scattercarpet"
           }
          ],
          "scattergeo": [
           {
            "marker": {
             "colorbar": {
              "outlinewidth": 0,
              "ticks": ""
             }
            },
            "type": "scattergeo"
           }
          ],
          "scattergl": [
           {
            "marker": {
             "colorbar": {
              "outlinewidth": 0,
              "ticks": ""
             }
            },
            "type": "scattergl"
           }
          ],
          "scattermap": [
           {
            "marker": {
             "colorbar": {
              "outlinewidth": 0,
              "ticks": ""
             }
            },
            "type": "scattermap"
           }
          ],
          "scattermapbox": [
           {
            "marker": {
             "colorbar": {
              "outlinewidth": 0,
              "ticks": ""
             }
            },
            "type": "scattermapbox"
           }
          ],
          "scatterpolar": [
           {
            "marker": {
             "colorbar": {
              "outlinewidth": 0,
              "ticks": ""
             }
            },
            "type": "scatterpolar"
           }
          ],
          "scatterpolargl": [
           {
            "marker": {
             "colorbar": {
              "outlinewidth": 0,
              "ticks": ""
             }
            },
            "type": "scatterpolargl"
           }
          ],
          "scatterternary": [
           {
            "marker": {
             "colorbar": {
              "outlinewidth": 0,
              "ticks": ""
             }
            },
            "type": "scatterternary"
           }
          ],
          "surface": [
           {
            "colorbar": {
             "outlinewidth": 0,
             "ticks": ""
            },
            "colorscale": [
             [
              0,
              "#0d0887"
             ],
             [
              0.1111111111111111,
              "#46039f"
             ],
             [
              0.2222222222222222,
              "#7201a8"
             ],
             [
              0.3333333333333333,
              "#9c179e"
             ],
             [
              0.4444444444444444,
              "#bd3786"
             ],
             [
              0.5555555555555556,
              "#d8576b"
             ],
             [
              0.6666666666666666,
              "#ed7953"
             ],
             [
              0.7777777777777778,
              "#fb9f3a"
             ],
             [
              0.8888888888888888,
              "#fdca26"
             ],
             [
              1,
              "#f0f921"
             ]
            ],
            "type": "surface"
           }
          ],
          "table": [
           {
            "cells": {
             "fill": {
              "color": "#EBF0F8"
             },
             "line": {
              "color": "white"
             }
            },
            "header": {
             "fill": {
              "color": "#C8D4E3"
             },
             "line": {
              "color": "white"
             }
            },
            "type": "table"
           }
          ]
         },
         "layout": {
          "annotationdefaults": {
           "arrowcolor": "#2a3f5f",
           "arrowhead": 0,
           "arrowwidth": 1
          },
          "autotypenumbers": "strict",
          "coloraxis": {
           "colorbar": {
            "outlinewidth": 0,
            "ticks": ""
           }
          },
          "colorscale": {
           "diverging": [
            [
             0,
             "#8e0152"
            ],
            [
             0.1,
             "#c51b7d"
            ],
            [
             0.2,
             "#de77ae"
            ],
            [
             0.3,
             "#f1b6da"
            ],
            [
             0.4,
             "#fde0ef"
            ],
            [
             0.5,
             "#f7f7f7"
            ],
            [
             0.6,
             "#e6f5d0"
            ],
            [
             0.7,
             "#b8e186"
            ],
            [
             0.8,
             "#7fbc41"
            ],
            [
             0.9,
             "#4d9221"
            ],
            [
             1,
             "#276419"
            ]
           ],
           "sequential": [
            [
             0,
             "#0d0887"
            ],
            [
             0.1111111111111111,
             "#46039f"
            ],
            [
             0.2222222222222222,
             "#7201a8"
            ],
            [
             0.3333333333333333,
             "#9c179e"
            ],
            [
             0.4444444444444444,
             "#bd3786"
            ],
            [
             0.5555555555555556,
             "#d8576b"
            ],
            [
             0.6666666666666666,
             "#ed7953"
            ],
            [
             0.7777777777777778,
             "#fb9f3a"
            ],
            [
             0.8888888888888888,
             "#fdca26"
            ],
            [
             1,
             "#f0f921"
            ]
           ],
           "sequentialminus": [
            [
             0,
             "#0d0887"
            ],
            [
             0.1111111111111111,
             "#46039f"
            ],
            [
             0.2222222222222222,
             "#7201a8"
            ],
            [
             0.3333333333333333,
             "#9c179e"
            ],
            [
             0.4444444444444444,
             "#bd3786"
            ],
            [
             0.5555555555555556,
             "#d8576b"
            ],
            [
             0.6666666666666666,
             "#ed7953"
            ],
            [
             0.7777777777777778,
             "#fb9f3a"
            ],
            [
             0.8888888888888888,
             "#fdca26"
            ],
            [
             1,
             "#f0f921"
            ]
           ]
          },
          "colorway": [
           "#636efa",
           "#EF553B",
           "#00cc96",
           "#ab63fa",
           "#FFA15A",
           "#19d3f3",
           "#FF6692",
           "#B6E880",
           "#FF97FF",
           "#FECB52"
          ],
          "font": {
           "color": "#2a3f5f"
          },
          "geo": {
           "bgcolor": "white",
           "lakecolor": "white",
           "landcolor": "#E5ECF6",
           "showlakes": true,
           "showland": true,
           "subunitcolor": "white"
          },
          "hoverlabel": {
           "align": "left"
          },
          "hovermode": "closest",
          "mapbox": {
           "style": "light"
          },
          "paper_bgcolor": "white",
          "plot_bgcolor": "#E5ECF6",
          "polar": {
           "angularaxis": {
            "gridcolor": "white",
            "linecolor": "white",
            "ticks": ""
           },
           "bgcolor": "#E5ECF6",
           "radialaxis": {
            "gridcolor": "white",
            "linecolor": "white",
            "ticks": ""
           }
          },
          "scene": {
           "xaxis": {
            "backgroundcolor": "#E5ECF6",
            "gridcolor": "white",
            "gridwidth": 2,
            "linecolor": "white",
            "showbackground": true,
            "ticks": "",
            "zerolinecolor": "white"
           },
           "yaxis": {
            "backgroundcolor": "#E5ECF6",
            "gridcolor": "white",
            "gridwidth": 2,
            "linecolor": "white",
            "showbackground": true,
            "ticks": "",
            "zerolinecolor": "white"
           },
           "zaxis": {
            "backgroundcolor": "#E5ECF6",
            "gridcolor": "white",
            "gridwidth": 2,
            "linecolor": "white",
            "showbackground": true,
            "ticks": "",
            "zerolinecolor": "white"
           }
          },
          "shapedefaults": {
           "line": {
            "color": "#2a3f5f"
           }
          },
          "ternary": {
           "aaxis": {
            "gridcolor": "white",
            "linecolor": "white",
            "ticks": ""
           },
           "baxis": {
            "gridcolor": "white",
            "linecolor": "white",
            "ticks": ""
           },
           "bgcolor": "#E5ECF6",
           "caxis": {
            "gridcolor": "white",
            "linecolor": "white",
            "ticks": ""
           }
          },
          "title": {
           "x": 0.05
          },
          "xaxis": {
           "automargin": true,
           "gridcolor": "white",
           "linecolor": "white",
           "ticks": "",
           "title": {
            "standoff": 15
           },
           "zerolinecolor": "white",
           "zerolinewidth": 2
          },
          "yaxis": {
           "automargin": true,
           "gridcolor": "white",
           "linecolor": "white",
           "ticks": "",
           "title": {
            "standoff": 15
           },
           "zerolinecolor": "white",
           "zerolinewidth": 2
          }
         }
        },
        "title": {
         "text": "Training History"
        },
        "width": 800,
        "xaxis": {
         "anchor": "y",
         "domain": [
          0,
          0.45
         ],
         "title": {
          "text": "Epoch"
         }
        },
        "xaxis2": {
         "anchor": "y2",
         "domain": [
          0.55,
          1
         ]
        },
        "yaxis": {
         "anchor": "x",
         "domain": [
          0,
          1
         ],
         "title": {
          "text": "Accuracy"
         }
        },
        "yaxis2": {
         "anchor": "x2",
         "domain": [
          0,
          1
         ]
        }
       }
      }
     },
     "metadata": {},
     "output_type": "display_data"
    }
   ],
   "source": [
    "import plotly.graph_objs as go\n",
    "import plotly.express as px\n",
    "from plotly.subplots import make_subplots\n",
    "\n",
    "x_arr = np.arange(len(hists[0]) + 1)\n",
    "fig = make_subplots(rows=1, cols=2, subplot_titles=('Loss', 'Accuracy'))\n",
    "fig.add_trace(go.Scatter(x=x_arr, y=hists[0], mode='lines+markers', name='Train loss', marker=dict(symbol='circle')), row=1, col=1)\n",
    "fig.add_trace(go.Scatter(x=x_arr, y=hists[2], mode='lines+markers', name='Valid loss', marker=dict(symbol='triangle-left')), row=1, col=1)\n",
    "fig.add_trace(go.Scatter(x=x_arr, y=hists[1], mode='lines+markers', name='Train accuracy', marker=dict(symbol='circle')), row=1, col=2)\n",
    "fig.add_trace(go.Scatter(x=x_arr, y=hists[3], mode='lines+markers', name='Valid accuracy', marker=dict(symbol='triangle-left')), row=1, col=2)\n",
    "fig.update_yaxes(title_text='Loss', row=1, col=1)\n",
    "fig.update_xaxes(title_text='Epoch', row=1, col=1)\n",
    "fig.update_yaxes(title_text='Accuracy', row=1, col=1)\n",
    "fig.update_xaxes(title_text='Epoch', row=1, col=1)\n",
    "fig.update_layout(\n",
    "    title_text=\"Training History\",\n",
    "    width=800, height=400,\n",
    "    legend=dict(font=dict(size=14))\n",
    ")\n",
    "fig.show()"
   ]
  },
  {
   "cell_type": "markdown",
   "id": "b6164409",
   "metadata": {},
   "source": [
    "### Test results"
   ]
  },
  {
   "cell_type": "code",
   "execution_count": 23,
   "id": "9f3480a6",
   "metadata": {},
   "outputs": [
    {
     "name": "stdout",
     "output_type": "stream",
     "text": [
      "Test accuracy: 0.9699\n"
     ]
    }
   ],
   "source": [
    "torch_model = torch_model.to('cpu')\n",
    "pred = torch_model(mnist_test_dataset.data / 255.)\n",
    "is_correct = (torch.argmax(pred, dim=1) == mnist_test_dataset.targets).float()\n",
    "print(f'Test accuracy: {is_correct.mean():.4f}')\n"
   ]
  },
  {
   "cell_type": "markdown",
   "id": "823900b1",
   "metadata": {},
   "source": [
    "### CNN"
   ]
  },
  {
   "cell_type": "code",
   "execution_count": 24,
   "id": "4589e61f",
   "metadata": {},
   "outputs": [],
   "source": [
    "CNN_model = nn.Sequential()\n",
    "CNN_model.add_module(\n",
    "    'conv1',\n",
    "    nn.Conv2d(          # o = i, o = floor((n + 2p - m) / s) + 1\n",
    "        in_channels=1,\n",
    "        out_channels=32,\n",
    "        kernel_size=5,\n",
    "        padding=2\n",
    "    )\n",
    ")\n",
    "CNN_model.add_module(\n",
    "    'ReLU1',\n",
    "    nn.ReLU()\n",
    ")\n",
    "CNN_model.add_module(\n",
    "    'Max_pool1',\n",
    "    nn.MaxPool2d(kernel_size=2)     #stride = kernel_size by default => o = floor((28 -2)/2) + 1 = 14\n",
    ")\n",
    "CNN_model.add_module(\n",
    "    'conv2',\n",
    "    nn.Conv2d(\n",
    "        in_channels=32,\n",
    "        out_channels=64,\n",
    "        kernel_size=5,\n",
    "        padding=2\n",
    "    )\n",
    ")\n",
    "CNN_model.add_module(\n",
    "    'ReLU2',\n",
    "    nn.ReLU()\n",
    ")\n",
    "CNN_model.add_module(\n",
    "    'Max_pool2',\n",
    "    nn.MaxPool2d(kernel_size=2)  # stride = kernel_size by default => o = floor((14 -2)/2) + 1 = 7\n",
    ")\n",
    "CNN_model.add_module(\n",
    "    'flatten',\n",
    "    nn.Flatten()\n",
    ")\n",
    "CNN_model.add_module(\n",
    "    'Ll1',\n",
    "    nn.Linear(64*7*7, 1024)\n",
    ")\n",
    "CNN_model.add_module(\n",
    "    'ReLU3',\n",
    "    nn.ReLU()\n",
    ")\n",
    "CNN_model.add_module(\n",
    "    'dropout',\n",
    "    nn.Dropout(p=0.5)\n",
    ")\n",
    "CNN_model.add_module(\n",
    "    'Ll2',\n",
    "    nn.Linear(1024, 10)\n",
    ")"
   ]
  },
  {
   "cell_type": "code",
   "execution_count": 25,
   "id": "7d0b0c55",
   "metadata": {},
   "outputs": [],
   "source": [
    "CNN_model = CNN_model.to(device)"
   ]
  },
  {
   "cell_type": "code",
   "execution_count": 26,
   "id": "f94db008",
   "metadata": {},
   "outputs": [
    {
     "name": "stdout",
     "output_type": "stream",
     "text": [
      "Epoch 1 accuracy_train: 0.9524000287055969 accuracy_valid: 0.9842000007629395\n",
      "Epoch 2 accuracy_train: 0.9846199750900269 accuracy_valid: 0.9843000173568726\n",
      "Epoch 3 accuracy_train: 0.9887199997901917 accuracy_valid: 0.9879999756813049\n",
      "Epoch 4 accuracy_train: 0.9919400215148926 accuracy_valid: 0.9887999892234802\n",
      "Epoch 5 accuracy_train: 0.9933800101280212 accuracy_valid: 0.977400004863739\n",
      "Epoch 6 accuracy_train: 0.9942399859428406 accuracy_valid: 0.989799976348877\n",
      "Epoch 7 accuracy_train: 0.9953399896621704 accuracy_valid: 0.9905999898910522\n",
      "Epoch 8 accuracy_train: 0.9958800077438354 accuracy_valid: 0.9904999732971191\n",
      "Epoch 9 accuracy_train: 0.9960600137710571 accuracy_valid: 0.9909999966621399\n",
      "Epoch 10 accuracy_train: 0.9966599941253662 accuracy_valid: 0.9916999936103821\n",
      "Epoch 11 accuracy_train: 0.9973599910736084 accuracy_valid: 0.9907000064849854\n",
      "Epoch 12 accuracy_train: 0.9975399971008301 accuracy_valid: 0.9914000034332275\n",
      "Epoch 13 accuracy_train: 0.9976800084114075 accuracy_valid: 0.989799976348877\n",
      "Epoch 14 accuracy_train: 0.997219979763031 accuracy_valid: 0.9919999837875366\n",
      "Epoch 15 accuracy_train: 0.9973000288009644 accuracy_valid: 0.9902999997138977\n",
      "Epoch 16 accuracy_train: 0.9987199902534485 accuracy_valid: 0.9907000064849854\n",
      "Epoch 17 accuracy_train: 0.9982600212097168 accuracy_valid: 0.9891999959945679\n",
      "Epoch 18 accuracy_train: 0.9981399774551392 accuracy_valid: 0.9908999800682068\n",
      "Epoch 19 accuracy_train: 0.9983199834823608 accuracy_valid: 0.9898999929428101\n",
      "Epoch 20 accuracy_train: 0.9977399706840515 accuracy_valid: 0.989799976348877\n",
      "Epoch 21 accuracy_train: 0.9983000159263611 accuracy_valid: 0.9919999837875366\n",
      "Epoch 22 accuracy_train: 0.9983999729156494 accuracy_valid: 0.9907000064849854\n",
      "Epoch 23 accuracy_train: 0.9987599849700928 accuracy_valid: 0.9901000261306763\n",
      "Epoch 24 accuracy_train: 0.9985799789428711 accuracy_valid: 0.9916999936103821\n",
      "Epoch 25 accuracy_train: 0.9988999962806702 accuracy_valid: 0.9921000003814697\n",
      "Epoch 26 accuracy_train: 0.998199999332428 accuracy_valid: 0.9902999997138977\n",
      "Epoch 27 accuracy_train: 0.9986600279808044 accuracy_valid: 0.9911999702453613\n",
      "Epoch 28 accuracy_train: 0.998740017414093 accuracy_valid: 0.9904000163078308\n",
      "Epoch 29 accuracy_train: 0.9990800023078918 accuracy_valid: 0.9916999936103821\n",
      "Epoch 30 accuracy_train: 0.9986199736595154 accuracy_valid: 0.9908000230789185\n",
      "Epoch 31 accuracy_train: 0.9989799857139587 accuracy_valid: 0.9894000291824341\n",
      "Epoch 32 accuracy_train: 0.9990800023078918 accuracy_valid: 0.9908999800682068\n",
      "Epoch 33 accuracy_train: 0.9987800121307373 accuracy_valid: 0.9900000095367432\n",
      "Epoch 34 accuracy_train: 0.9987800121307373 accuracy_valid: 0.9915000200271606\n",
      "Epoch 35 accuracy_train: 0.9993600249290466 accuracy_valid: 0.9896000027656555\n",
      "Epoch 36 accuracy_train: 0.998960018157959 accuracy_valid: 0.9916999936103821\n",
      "Epoch 37 accuracy_train: 0.9988600015640259 accuracy_valid: 0.9904999732971191\n",
      "Epoch 38 accuracy_train: 0.9990800023078918 accuracy_valid: 0.9912999868392944\n",
      "Epoch 39 accuracy_train: 0.9995399713516235 accuracy_valid: 0.9909999966621399\n",
      "Epoch 40 accuracy_train: 0.9987000226974487 accuracy_valid: 0.9915000200271606\n",
      "Epoch 41 accuracy_train: 0.9987800121307373 accuracy_valid: 0.9915000200271606\n",
      "Epoch 42 accuracy_train: 0.9993799924850464 accuracy_valid: 0.9896000027656555\n",
      "Epoch 43 accuracy_train: 0.9990800023078918 accuracy_valid: 0.9894000291824341\n",
      "Epoch 44 accuracy_train: 0.9990599751472473 accuracy_valid: 0.9921000003814697\n",
      "Epoch 45 accuracy_train: 0.999239981174469 accuracy_valid: 0.9908999800682068\n",
      "Epoch 46 accuracy_train: 0.999019980430603 accuracy_valid: 0.9922999739646912\n",
      "Epoch 47 accuracy_train: 0.9989200234413147 accuracy_valid: 0.9914000034332275\n",
      "Epoch 48 accuracy_train: 0.9992200136184692 accuracy_valid: 0.9922999739646912\n",
      "Epoch 49 accuracy_train: 0.9992600083351135 accuracy_valid: 0.9925000071525574\n",
      "Epoch 50 accuracy_train: 0.999459981918335 accuracy_valid: 0.9927999973297119\n"
     ]
    }
   ],
   "source": [
    "loss_fn = nn.CrossEntropyLoss()\n",
    "optimizer = torch.optim.Adam(CNN_model.parameters(), lr=0.001)\n",
    "hists_cnn = train(model=CNN_model,\n",
    "                  num_epochs=num_epochs,\n",
    "                  train_dl=train_dl,\n",
    "                  valid_dl=valid_dl,\n",
    "                  loss_fn=loss_fn,\n",
    "                  optimizer=optimizer\n",
    "                  )"
   ]
  },
  {
   "cell_type": "code",
   "execution_count": 27,
   "id": "b2f4b529",
   "metadata": {},
   "outputs": [
    {
     "data": {
      "application/vnd.plotly.v1+json": {
       "config": {
        "plotlyServerURL": "https://plot.ly"
       },
       "data": [
        {
         "marker": {
          "symbol": "circle"
         },
         "mode": "lines+markers",
         "name": "Train loss",
         "type": "scatter",
         "x": {
          "bdata": "AAECAwQFBgcICQoLDA0ODxAREhMUFRYXGBkaGxwdHh8gISIjJCUmJygpKissLS4vMDEy",
          "dtype": "i1"
         },
         "xaxis": "x",
         "y": [
          0.15215393914163114,
          0.04883882278047502,
          0.035330387597829103,
          0.02574136469730176,
          0.020574166849103057,
          0.017596787329452346,
          0.014182101879704277,
          0.012837909864827525,
          0.011433045726730488,
          0.009876072461868734,
          0.008804483481110074,
          0.008193554056509383,
          0.007705961349198956,
          0.008800080286875754,
          0.008748324820182625,
          0.00451374947129485,
          0.005655767097234029,
          0.006243385383811536,
          0.005304995253568945,
          0.008723874152335914,
          0.004745012020679405,
          0.005060496816354817,
          0.004327245324479846,
          0.004815721491005279,
          0.0037143719150148917,
          0.006816205642510727,
          0.005147076056818711,
          0.004067243426910929,
          0.0030933609735464738,
          0.005946585469525881,
          0.0034187143570906194,
          0.0033208234295963412,
          0.0054959849117545,
          0.004297707722542152,
          0.002377751250383765,
          0.004804786293635214,
          0.003694460040010429,
          0.003892518602586905,
          0.0018861469902772534,
          0.005840186701522315,
          0.005072708604214596,
          0.0025983070600550753,
          0.004779909076920475,
          0.004463721921844236,
          0.002412671427146,
          0.004469423433988403,
          0.005200119256164309,
          0.0036745072899303233,
          0.0032329616124293576,
          0.0024411426256057247
         ],
         "yaxis": "y"
        },
        {
         "marker": {
          "symbol": "circle"
         },
         "mode": "lines+markers",
         "name": "Train accuracy",
         "type": "scatter",
         "x": {
          "bdata": "AAECAwQFBgcICQoLDA0ODxAREhMUFRYXGBkaGxwdHh8gISIjJCUmJygpKissLS4vMDEy",
          "dtype": "i1"
         },
         "xaxis": "x2",
         "y": [
          0.9524000287055969,
          0.9846199750900269,
          0.9887199997901917,
          0.9919400215148926,
          0.9933800101280212,
          0.9942399859428406,
          0.9953399896621704,
          0.9958800077438354,
          0.9960600137710571,
          0.9966599941253662,
          0.9973599910736084,
          0.9975399971008301,
          0.9976800084114075,
          0.997219979763031,
          0.9973000288009644,
          0.9987199902534485,
          0.9982600212097168,
          0.9981399774551392,
          0.9983199834823608,
          0.9977399706840515,
          0.9983000159263611,
          0.9983999729156494,
          0.9987599849700928,
          0.9985799789428711,
          0.9988999962806702,
          0.998199999332428,
          0.9986600279808044,
          0.998740017414093,
          0.9990800023078918,
          0.9986199736595154,
          0.9989799857139587,
          0.9990800023078918,
          0.9987800121307373,
          0.9987800121307373,
          0.9993600249290466,
          0.998960018157959,
          0.9988600015640259,
          0.9990800023078918,
          0.9995399713516235,
          0.9987000226974487,
          0.9987800121307373,
          0.9993799924850464,
          0.9990800023078918,
          0.9990599751472473,
          0.999239981174469,
          0.999019980430603,
          0.9989200234413147,
          0.9992200136184692,
          0.9992600083351135,
          0.999459981918335
         ],
         "yaxis": "y2"
        },
        {
         "marker": {
          "symbol": "triangle-left"
         },
         "mode": "lines+markers",
         "name": "Valid loss",
         "type": "scatter",
         "x": {
          "bdata": "AAECAwQFBgcICQoLDA0ODxAREhMUFRYXGBkaGxwdHh8gISIjJCUmJygpKissLS4vMDEy",
          "dtype": "i1"
         },
         "xaxis": "x",
         "y": [
          0.0565043517768383,
          0.055175448859483,
          0.04157052265704842,
          0.03752255307362648,
          0.08095402760971337,
          0.04109022264658997,
          0.035287139237351946,
          0.03622633126776364,
          0.040115230479057934,
          0.03295665860834197,
          0.039668584506263864,
          0.03692653950315216,
          0.04871660704202477,
          0.04823256208896818,
          0.04763775999510144,
          0.051996762977404944,
          0.058907725173863584,
          0.05153208224765279,
          0.0602094891415288,
          0.058016984787405294,
          0.05538438347146989,
          0.06357442450876696,
          0.06705238381800806,
          0.049681403165608255,
          0.05278310611470689,
          0.06644904255739223,
          0.06982550485777758,
          0.08001795870349006,
          0.07723194987058052,
          0.07389841102679592,
          0.07916775813394761,
          0.09363656173998086,
          0.08678576549196143,
          0.07162890528345227,
          0.10012941011433865,
          0.07714646437054157,
          0.0988985547310354,
          0.08788218214640114,
          0.08902661639898556,
          0.06900316193206554,
          0.09499081576744854,
          0.11452495888409349,
          0.1174347301795547,
          0.1004830290259202,
          0.09039826526173297,
          0.09510557378755737,
          0.09235699920648689,
          0.08318540865929952,
          0.08742945040747477,
          0.0877121957976596
         ],
         "yaxis": "y"
        },
        {
         "marker": {
          "symbol": "triangle-left"
         },
         "mode": "lines+markers",
         "name": "Valid accuracy",
         "type": "scatter",
         "x": {
          "bdata": "AAECAwQFBgcICQoLDA0ODxAREhMUFRYXGBkaGxwdHh8gISIjJCUmJygpKissLS4vMDEy",
          "dtype": "i1"
         },
         "xaxis": "x2",
         "y": [
          0.9842000007629395,
          0.9843000173568726,
          0.9879999756813049,
          0.9887999892234802,
          0.977400004863739,
          0.989799976348877,
          0.9905999898910522,
          0.9904999732971191,
          0.9909999966621399,
          0.9916999936103821,
          0.9907000064849854,
          0.9914000034332275,
          0.989799976348877,
          0.9919999837875366,
          0.9902999997138977,
          0.9907000064849854,
          0.9891999959945679,
          0.9908999800682068,
          0.9898999929428101,
          0.989799976348877,
          0.9919999837875366,
          0.9907000064849854,
          0.9901000261306763,
          0.9916999936103821,
          0.9921000003814697,
          0.9902999997138977,
          0.9911999702453613,
          0.9904000163078308,
          0.9916999936103821,
          0.9908000230789185,
          0.9894000291824341,
          0.9908999800682068,
          0.9900000095367432,
          0.9915000200271606,
          0.9896000027656555,
          0.9916999936103821,
          0.9904999732971191,
          0.9912999868392944,
          0.9909999966621399,
          0.9915000200271606,
          0.9915000200271606,
          0.9896000027656555,
          0.9894000291824341,
          0.9921000003814697,
          0.9908999800682068,
          0.9922999739646912,
          0.9914000034332275,
          0.9922999739646912,
          0.9925000071525574,
          0.9927999973297119
         ],
         "yaxis": "y2"
        }
       ],
       "layout": {
        "annotations": [
         {
          "font": {
           "size": 16
          },
          "showarrow": false,
          "text": "Loss",
          "x": 0.225,
          "xanchor": "center",
          "xref": "paper",
          "y": 1,
          "yanchor": "bottom",
          "yref": "paper"
         },
         {
          "font": {
           "size": 16
          },
          "showarrow": false,
          "text": "Accuracy",
          "x": 0.775,
          "xanchor": "center",
          "xref": "paper",
          "y": 1,
          "yanchor": "bottom",
          "yref": "paper"
         }
        ],
        "height": 400,
        "legend": {
         "font": {
          "size": 14
         }
        },
        "template": {
         "data": {
          "bar": [
           {
            "error_x": {
             "color": "#2a3f5f"
            },
            "error_y": {
             "color": "#2a3f5f"
            },
            "marker": {
             "line": {
              "color": "#E5ECF6",
              "width": 0.5
             },
             "pattern": {
              "fillmode": "overlay",
              "size": 10,
              "solidity": 0.2
             }
            },
            "type": "bar"
           }
          ],
          "barpolar": [
           {
            "marker": {
             "line": {
              "color": "#E5ECF6",
              "width": 0.5
             },
             "pattern": {
              "fillmode": "overlay",
              "size": 10,
              "solidity": 0.2
             }
            },
            "type": "barpolar"
           }
          ],
          "carpet": [
           {
            "aaxis": {
             "endlinecolor": "#2a3f5f",
             "gridcolor": "white",
             "linecolor": "white",
             "minorgridcolor": "white",
             "startlinecolor": "#2a3f5f"
            },
            "baxis": {
             "endlinecolor": "#2a3f5f",
             "gridcolor": "white",
             "linecolor": "white",
             "minorgridcolor": "white",
             "startlinecolor": "#2a3f5f"
            },
            "type": "carpet"
           }
          ],
          "choropleth": [
           {
            "colorbar": {
             "outlinewidth": 0,
             "ticks": ""
            },
            "type": "choropleth"
           }
          ],
          "contour": [
           {
            "colorbar": {
             "outlinewidth": 0,
             "ticks": ""
            },
            "colorscale": [
             [
              0,
              "#0d0887"
             ],
             [
              0.1111111111111111,
              "#46039f"
             ],
             [
              0.2222222222222222,
              "#7201a8"
             ],
             [
              0.3333333333333333,
              "#9c179e"
             ],
             [
              0.4444444444444444,
              "#bd3786"
             ],
             [
              0.5555555555555556,
              "#d8576b"
             ],
             [
              0.6666666666666666,
              "#ed7953"
             ],
             [
              0.7777777777777778,
              "#fb9f3a"
             ],
             [
              0.8888888888888888,
              "#fdca26"
             ],
             [
              1,
              "#f0f921"
             ]
            ],
            "type": "contour"
           }
          ],
          "contourcarpet": [
           {
            "colorbar": {
             "outlinewidth": 0,
             "ticks": ""
            },
            "type": "contourcarpet"
           }
          ],
          "heatmap": [
           {
            "colorbar": {
             "outlinewidth": 0,
             "ticks": ""
            },
            "colorscale": [
             [
              0,
              "#0d0887"
             ],
             [
              0.1111111111111111,
              "#46039f"
             ],
             [
              0.2222222222222222,
              "#7201a8"
             ],
             [
              0.3333333333333333,
              "#9c179e"
             ],
             [
              0.4444444444444444,
              "#bd3786"
             ],
             [
              0.5555555555555556,
              "#d8576b"
             ],
             [
              0.6666666666666666,
              "#ed7953"
             ],
             [
              0.7777777777777778,
              "#fb9f3a"
             ],
             [
              0.8888888888888888,
              "#fdca26"
             ],
             [
              1,
              "#f0f921"
             ]
            ],
            "type": "heatmap"
           }
          ],
          "histogram": [
           {
            "marker": {
             "pattern": {
              "fillmode": "overlay",
              "size": 10,
              "solidity": 0.2
             }
            },
            "type": "histogram"
           }
          ],
          "histogram2d": [
           {
            "colorbar": {
             "outlinewidth": 0,
             "ticks": ""
            },
            "colorscale": [
             [
              0,
              "#0d0887"
             ],
             [
              0.1111111111111111,
              "#46039f"
             ],
             [
              0.2222222222222222,
              "#7201a8"
             ],
             [
              0.3333333333333333,
              "#9c179e"
             ],
             [
              0.4444444444444444,
              "#bd3786"
             ],
             [
              0.5555555555555556,
              "#d8576b"
             ],
             [
              0.6666666666666666,
              "#ed7953"
             ],
             [
              0.7777777777777778,
              "#fb9f3a"
             ],
             [
              0.8888888888888888,
              "#fdca26"
             ],
             [
              1,
              "#f0f921"
             ]
            ],
            "type": "histogram2d"
           }
          ],
          "histogram2dcontour": [
           {
            "colorbar": {
             "outlinewidth": 0,
             "ticks": ""
            },
            "colorscale": [
             [
              0,
              "#0d0887"
             ],
             [
              0.1111111111111111,
              "#46039f"
             ],
             [
              0.2222222222222222,
              "#7201a8"
             ],
             [
              0.3333333333333333,
              "#9c179e"
             ],
             [
              0.4444444444444444,
              "#bd3786"
             ],
             [
              0.5555555555555556,
              "#d8576b"
             ],
             [
              0.6666666666666666,
              "#ed7953"
             ],
             [
              0.7777777777777778,
              "#fb9f3a"
             ],
             [
              0.8888888888888888,
              "#fdca26"
             ],
             [
              1,
              "#f0f921"
             ]
            ],
            "type": "histogram2dcontour"
           }
          ],
          "mesh3d": [
           {
            "colorbar": {
             "outlinewidth": 0,
             "ticks": ""
            },
            "type": "mesh3d"
           }
          ],
          "parcoords": [
           {
            "line": {
             "colorbar": {
              "outlinewidth": 0,
              "ticks": ""
             }
            },
            "type": "parcoords"
           }
          ],
          "pie": [
           {
            "automargin": true,
            "type": "pie"
           }
          ],
          "scatter": [
           {
            "fillpattern": {
             "fillmode": "overlay",
             "size": 10,
             "solidity": 0.2
            },
            "type": "scatter"
           }
          ],
          "scatter3d": [
           {
            "line": {
             "colorbar": {
              "outlinewidth": 0,
              "ticks": ""
             }
            },
            "marker": {
             "colorbar": {
              "outlinewidth": 0,
              "ticks": ""
             }
            },
            "type": "scatter3d"
           }
          ],
          "scattercarpet": [
           {
            "marker": {
             "colorbar": {
              "outlinewidth": 0,
              "ticks": ""
             }
            },
            "type": "scattercarpet"
           }
          ],
          "scattergeo": [
           {
            "marker": {
             "colorbar": {
              "outlinewidth": 0,
              "ticks": ""
             }
            },
            "type": "scattergeo"
           }
          ],
          "scattergl": [
           {
            "marker": {
             "colorbar": {
              "outlinewidth": 0,
              "ticks": ""
             }
            },
            "type": "scattergl"
           }
          ],
          "scattermap": [
           {
            "marker": {
             "colorbar": {
              "outlinewidth": 0,
              "ticks": ""
             }
            },
            "type": "scattermap"
           }
          ],
          "scattermapbox": [
           {
            "marker": {
             "colorbar": {
              "outlinewidth": 0,
              "ticks": ""
             }
            },
            "type": "scattermapbox"
           }
          ],
          "scatterpolar": [
           {
            "marker": {
             "colorbar": {
              "outlinewidth": 0,
              "ticks": ""
             }
            },
            "type": "scatterpolar"
           }
          ],
          "scatterpolargl": [
           {
            "marker": {
             "colorbar": {
              "outlinewidth": 0,
              "ticks": ""
             }
            },
            "type": "scatterpolargl"
           }
          ],
          "scatterternary": [
           {
            "marker": {
             "colorbar": {
              "outlinewidth": 0,
              "ticks": ""
             }
            },
            "type": "scatterternary"
           }
          ],
          "surface": [
           {
            "colorbar": {
             "outlinewidth": 0,
             "ticks": ""
            },
            "colorscale": [
             [
              0,
              "#0d0887"
             ],
             [
              0.1111111111111111,
              "#46039f"
             ],
             [
              0.2222222222222222,
              "#7201a8"
             ],
             [
              0.3333333333333333,
              "#9c179e"
             ],
             [
              0.4444444444444444,
              "#bd3786"
             ],
             [
              0.5555555555555556,
              "#d8576b"
             ],
             [
              0.6666666666666666,
              "#ed7953"
             ],
             [
              0.7777777777777778,
              "#fb9f3a"
             ],
             [
              0.8888888888888888,
              "#fdca26"
             ],
             [
              1,
              "#f0f921"
             ]
            ],
            "type": "surface"
           }
          ],
          "table": [
           {
            "cells": {
             "fill": {
              "color": "#EBF0F8"
             },
             "line": {
              "color": "white"
             }
            },
            "header": {
             "fill": {
              "color": "#C8D4E3"
             },
             "line": {
              "color": "white"
             }
            },
            "type": "table"
           }
          ]
         },
         "layout": {
          "annotationdefaults": {
           "arrowcolor": "#2a3f5f",
           "arrowhead": 0,
           "arrowwidth": 1
          },
          "autotypenumbers": "strict",
          "coloraxis": {
           "colorbar": {
            "outlinewidth": 0,
            "ticks": ""
           }
          },
          "colorscale": {
           "diverging": [
            [
             0,
             "#8e0152"
            ],
            [
             0.1,
             "#c51b7d"
            ],
            [
             0.2,
             "#de77ae"
            ],
            [
             0.3,
             "#f1b6da"
            ],
            [
             0.4,
             "#fde0ef"
            ],
            [
             0.5,
             "#f7f7f7"
            ],
            [
             0.6,
             "#e6f5d0"
            ],
            [
             0.7,
             "#b8e186"
            ],
            [
             0.8,
             "#7fbc41"
            ],
            [
             0.9,
             "#4d9221"
            ],
            [
             1,
             "#276419"
            ]
           ],
           "sequential": [
            [
             0,
             "#0d0887"
            ],
            [
             0.1111111111111111,
             "#46039f"
            ],
            [
             0.2222222222222222,
             "#7201a8"
            ],
            [
             0.3333333333333333,
             "#9c179e"
            ],
            [
             0.4444444444444444,
             "#bd3786"
            ],
            [
             0.5555555555555556,
             "#d8576b"
            ],
            [
             0.6666666666666666,
             "#ed7953"
            ],
            [
             0.7777777777777778,
             "#fb9f3a"
            ],
            [
             0.8888888888888888,
             "#fdca26"
            ],
            [
             1,
             "#f0f921"
            ]
           ],
           "sequentialminus": [
            [
             0,
             "#0d0887"
            ],
            [
             0.1111111111111111,
             "#46039f"
            ],
            [
             0.2222222222222222,
             "#7201a8"
            ],
            [
             0.3333333333333333,
             "#9c179e"
            ],
            [
             0.4444444444444444,
             "#bd3786"
            ],
            [
             0.5555555555555556,
             "#d8576b"
            ],
            [
             0.6666666666666666,
             "#ed7953"
            ],
            [
             0.7777777777777778,
             "#fb9f3a"
            ],
            [
             0.8888888888888888,
             "#fdca26"
            ],
            [
             1,
             "#f0f921"
            ]
           ]
          },
          "colorway": [
           "#636efa",
           "#EF553B",
           "#00cc96",
           "#ab63fa",
           "#FFA15A",
           "#19d3f3",
           "#FF6692",
           "#B6E880",
           "#FF97FF",
           "#FECB52"
          ],
          "font": {
           "color": "#2a3f5f"
          },
          "geo": {
           "bgcolor": "white",
           "lakecolor": "white",
           "landcolor": "#E5ECF6",
           "showlakes": true,
           "showland": true,
           "subunitcolor": "white"
          },
          "hoverlabel": {
           "align": "left"
          },
          "hovermode": "closest",
          "mapbox": {
           "style": "light"
          },
          "paper_bgcolor": "white",
          "plot_bgcolor": "#E5ECF6",
          "polar": {
           "angularaxis": {
            "gridcolor": "white",
            "linecolor": "white",
            "ticks": ""
           },
           "bgcolor": "#E5ECF6",
           "radialaxis": {
            "gridcolor": "white",
            "linecolor": "white",
            "ticks": ""
           }
          },
          "scene": {
           "xaxis": {
            "backgroundcolor": "#E5ECF6",
            "gridcolor": "white",
            "gridwidth": 2,
            "linecolor": "white",
            "showbackground": true,
            "ticks": "",
            "zerolinecolor": "white"
           },
           "yaxis": {
            "backgroundcolor": "#E5ECF6",
            "gridcolor": "white",
            "gridwidth": 2,
            "linecolor": "white",
            "showbackground": true,
            "ticks": "",
            "zerolinecolor": "white"
           },
           "zaxis": {
            "backgroundcolor": "#E5ECF6",
            "gridcolor": "white",
            "gridwidth": 2,
            "linecolor": "white",
            "showbackground": true,
            "ticks": "",
            "zerolinecolor": "white"
           }
          },
          "shapedefaults": {
           "line": {
            "color": "#2a3f5f"
           }
          },
          "ternary": {
           "aaxis": {
            "gridcolor": "white",
            "linecolor": "white",
            "ticks": ""
           },
           "baxis": {
            "gridcolor": "white",
            "linecolor": "white",
            "ticks": ""
           },
           "bgcolor": "#E5ECF6",
           "caxis": {
            "gridcolor": "white",
            "linecolor": "white",
            "ticks": ""
           }
          },
          "title": {
           "x": 0.05
          },
          "xaxis": {
           "automargin": true,
           "gridcolor": "white",
           "linecolor": "white",
           "ticks": "",
           "title": {
            "standoff": 15
           },
           "zerolinecolor": "white",
           "zerolinewidth": 2
          },
          "yaxis": {
           "automargin": true,
           "gridcolor": "white",
           "linecolor": "white",
           "ticks": "",
           "title": {
            "standoff": 15
           },
           "zerolinecolor": "white",
           "zerolinewidth": 2
          }
         }
        },
        "title": {
         "text": "Training History, p = 0.5"
        },
        "width": 800,
        "xaxis": {
         "anchor": "y",
         "domain": [
          0,
          0.45
         ],
         "title": {
          "text": "Epoch"
         }
        },
        "xaxis2": {
         "anchor": "y2",
         "domain": [
          0.55,
          1
         ],
         "title": {
          "text": "Epoch"
         }
        },
        "yaxis": {
         "anchor": "x",
         "domain": [
          0,
          1
         ],
         "title": {
          "text": "Loss"
         }
        },
        "yaxis2": {
         "anchor": "x2",
         "domain": [
          0,
          1
         ],
         "title": {
          "text": "Accuracy"
         }
        }
       }
      }
     },
     "metadata": {},
     "output_type": "display_data"
    }
   ],
   "source": [
    "import plotly.graph_objs as go\n",
    "import plotly.express as px\n",
    "from plotly.subplots import make_subplots\n",
    "from collections import namedtuple\n",
    "Parametrs = namedtuple('Parametrs', ['mode', 'name', 'marker', 'row', 'col'])\n",
    "hist_parametrs = {0 : Parametrs(mode='lines+markers', name='Train loss', marker=dict(symbol='circle'), row=1, col=1),\n",
    "                  1 : Parametrs(mode='lines+markers', name='Train accuracy', marker=dict(symbol='circle'), row=1, col=2),\n",
    "                  2 : Parametrs(mode='lines+markers', name='Valid loss', marker=dict(symbol='triangle-left'), row=1, col=1),\n",
    "                  3 : Parametrs(mode='lines+markers', name='Valid accuracy', marker=dict(symbol='triangle-left'), row=1, col=2),}\n",
    "x_arr = np.arange(len(hists[0]) + 1)\n",
    "fig = make_subplots(rows=1, cols=2, subplot_titles=('Loss', 'Accuracy'))\n",
    "for params in range(4):\n",
    "    curr_params = hist_parametrs[params]\n",
    "    fig.add_trace(go.Scatter(x=x_arr, y=hists_cnn[params], mode=curr_params.mode, name=curr_params.name, marker=curr_params.marker), row=curr_params.row, col=curr_params.col)\n",
    "fig.update_yaxes(title_text='Loss', row=1, col=1)\n",
    "fig.update_xaxes(title_text='Epoch', row=1, col=1)\n",
    "fig.update_yaxes(title_text='Accuracy', row=1, col=2)\n",
    "fig.update_xaxes(title_text='Epoch', row=1, col=2)\n",
    "fig.update_layout(\n",
    "    title_text=\"Training History, p = 0.5\",\n",
    "    width=800, height=400,\n",
    "    legend=dict(font=dict(size=14))\n",
    ")\n",
    "fig.show()"
   ]
  },
  {
   "cell_type": "code",
   "execution_count": 28,
   "id": "f0116da3",
   "metadata": {},
   "outputs": [
    {
     "name": "stdout",
     "output_type": "stream",
     "text": [
      "Test accuracy: 0.9936\n"
     ]
    }
   ],
   "source": [
    "torch.cuda.synchronize()\n",
    "CNN_model_cpu = CNN_model.cpu()\n",
    "pred = CNN_model_cpu(mnist_test_dataset.data.unsqueeze(1) / 255.)\n",
    "is_correct = (torch.argmax(pred, dim=1) == mnist_test_dataset.targets).float()\n",
    "print(f'Test accuracy: {is_correct.mean():.4f}')"
   ]
  }
 ],
 "metadata": {
  "kernelspec": {
   "display_name": ".venv",
   "language": "python",
   "name": "python3"
  },
  "language_info": {
   "codemirror_mode": {
    "name": "ipython",
    "version": 3
   },
   "file_extension": ".py",
   "mimetype": "text/x-python",
   "name": "python",
   "nbconvert_exporter": "python",
   "pygments_lexer": "ipython3",
   "version": "3.12.3"
  }
 },
 "nbformat": 4,
 "nbformat_minor": 5
}
