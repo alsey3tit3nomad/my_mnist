{
 "cells": [
  {
   "cell_type": "code",
   "execution_count": 38,
   "id": "5f6c5d4e",
   "metadata": {},
   "outputs": [],
   "source": [
    "import numpy as np\n",
    "from sklearn.datasets import fetch_openml\n",
    "\n",
    "\n",
    "X, y = fetch_openml('mnist_784', version=1, return_X_y=True)\n",
    "X = X.values\n",
    "y = y.astype(int).values\n",
    "X = ((X / 255.) - .5) * 2"
   ]
  },
  {
   "cell_type": "code",
   "execution_count": 39,
   "id": "7c3b9b3d",
   "metadata": {},
   "outputs": [],
   "source": [
    "from sklearn.model_selection import train_test_split\n",
    "\n",
    "\n",
    "X_temp, X_test, y_temp, y_test = train_test_split(\n",
    "    X, y, test_size=10000, random_state=123, stratify=y)\n",
    "\n",
    "X_train, X_valid, y_train, y_valid = train_test_split(\n",
    "    X_temp, y_temp, test_size=5000, random_state=123, stratify=y_temp)\n",
    "\n",
    "del X_temp, y_temp, X, y"
   ]
  },
  {
   "cell_type": "code",
   "execution_count": 40,
   "id": "e983376a",
   "metadata": {},
   "outputs": [],
   "source": [
    "def sigma(z):\n",
    "    return 1. / (1 + np.exp(-z))\n",
    "\n",
    "def int_to_onehot(y, num_labels):\n",
    "    ary = np.zeros((y.shape[0], num_labels))\n",
    "    for i, val in enumerate(y):\n",
    "        ary[i, val] = 1\n",
    "\n",
    "    return ary\n",
    "\n",
    "class NeuralNetMLP:\n",
    "    def __init__(self, n_features, n_hidden, n_classes, random_seed=123, learning_rate=0.1):\n",
    "        self.learning_rate = learning_rate\n",
    "        self.rng = np.random.RandomState(random_seed)\n",
    "        self.n_features = n_features\n",
    "        self.n_cl = n_classes\n",
    "        self.n_hidden = n_hidden\n",
    "        self.weights_h = self.rng.normal(loc=0.0, scale =0.1, size=(self.n_hidden, self.n_features))\n",
    "        self.bias_h = np.zeros(self.n_hidden)\n",
    "        self.weights_out = self.rng.normal(loc = 0.0, scale=0.1, size=(self.n_cl, self.n_hidden))\n",
    "        self.bias_out = np.zeros(self.n_cl)\n",
    "\n",
    "    def forward(self, x):\n",
    "        z_h = np.dot(x, self.weights_h.T) + self.bias_h\n",
    "        a_h = sigma(z_h)\n",
    "        z_out = np.dot(a_h, self.weights_out.T) + self.bias_out\n",
    "        a_out = sigma(z_out)\n",
    "        return a_h, a_out\n",
    "\n",
    "    def backward(self, x, a_h, a_out, y):\n",
    "        y = int_to_onehot(y, self.n_cl)\n",
    "        #out\n",
    "        d_L_d_a_out = -2. * (y - a_out)/y.shape[0]\n",
    "        d_a_out_d_z_out = a_out * (1. - a_out)\n",
    "        d_l_d_z_out = d_L_d_a_out * d_a_out_d_z_out\n",
    "        d_L_d_w_out = np.dot((d_l_d_z_out).T, a_h)\n",
    "        d_L_d_b_out = np.sum(d_l_d_z_out, axis=0)\n",
    "\n",
    "        #hidden\n",
    "        d_z_out_d_a_h = self.weights_out\n",
    "        d_a_h_d_z_h = a_h * (1. - a_h)\n",
    "        d_l_d_a_h = np.dot((d_l_d_z_out), d_z_out_d_a_h)\n",
    "        d_L_d_w_h = np.dot((d_l_d_a_h * d_a_h_d_z_h).T, x)\n",
    "        d_L_d_b_h = np.sum(d_l_d_a_h * d_a_h_d_z_h, axis=0)\n",
    "        return (d_L_d_w_out, d_L_d_b_out, d_L_d_w_h, d_L_d_b_h)\n",
    "\n",
    "    def partial_fit(self, x, y):\n",
    "        a_h, a_out = self.forward(x)\n",
    "        d_L_d_w_out, d_L_d_b_out, d_L_d_w_h, d_L_d_b_h = self.backward(x, a_h, a_out, y)\n",
    "        self.weights_h -= self.learning_rate * d_L_d_w_h\n",
    "        self.bias_h -= self.learning_rate * d_L_d_b_h\n",
    "        self.weights_out -= self.learning_rate * d_L_d_w_out\n",
    "        self.bias_out -= self.learning_rate * d_L_d_b_out\n",
    "        return self\n",
    "\n",
    "    def _mini_batch_generator(self, X, Y, size_batch):\n",
    "\n",
    "        idx = np.arange(X.shape[0])\n",
    "        np.random.shuffle(idx)\n",
    "\n",
    "        for i in range(0, idx.shape[0] - size_batch + 1, size_batch):\n",
    "            idxi = idx[i:i + size_batch]\n",
    "            yield X[idxi], Y[idxi]\n",
    "\n",
    "\n",
    "\n",
    "    def minibatch_fit(self, X, Y, n_epoch, size_batch = 32):\n",
    "        for _ in range(n_epoch):\n",
    "            minibatch_gen = self._mini_batch_generator(X, Y, size_batch)\n",
    "            for x, y in minibatch_gen:\n",
    "                self.partial_fit(x, y)\n",
    "\n",
    "        return self"
   ]
  },
  {
   "cell_type": "code",
   "execution_count": 41,
   "id": "26843f45",
   "metadata": {},
   "outputs": [],
   "source": [
    "model = NeuralNetMLP(n_features=28*28,\n",
    "                     n_hidden=50,\n",
    "                     n_classes=10)"
   ]
  },
  {
   "cell_type": "code",
   "execution_count": 42,
   "id": "b3550e38",
   "metadata": {},
   "outputs": [],
   "source": [
    "def mse_loss(targets, infl, num_labels=10):\n",
    "    onehot_targets = int_to_onehot(targets, num_labels=num_labels)\n",
    "    return np.mean((onehot_targets - infl)**2)\n",
    "\n",
    "def accuracy(targets, predicted_labels):\n",
    "    return np.mean(predicted_labels == targets)\n",
    "\n",
    "_, infl = model.forward(X_valid)\n",
    "mse = mse_loss(y_valid, infl)\n",
    "\n",
    "predicted_labels = np.argmax(infl, axis=1)\n",
    "acc = accuracy(y_valid, predicted_labels)"
   ]
  },
  {
   "cell_type": "code",
   "execution_count": 43,
   "id": "309c27b0",
   "metadata": {},
   "outputs": [
    {
     "name": "stdout",
     "output_type": "stream",
     "text": [
      "Initial validation MSE: 0.3\n",
      "Initial validation accuracy: 9.4%\n"
     ]
    }
   ],
   "source": [
    "print(f'Initial validation MSE: {mse:.1f}')\n",
    "print(f'Initial validation accuracy: {acc*100:.1f}%')"
   ]
  },
  {
   "cell_type": "code",
   "execution_count": 44,
   "id": "04b33066",
   "metadata": {},
   "outputs": [
    {
     "data": {
      "text/plain": [
       "<__main__.NeuralNetMLP at 0x7d527c1c2ff0>"
      ]
     },
     "execution_count": 44,
     "metadata": {},
     "output_type": "execute_result"
    }
   ],
   "source": [
    "model.minibatch_fit(X_train, y_train, n_epoch=50, size_batch=32)"
   ]
  },
  {
   "cell_type": "code",
   "execution_count": 45,
   "id": "69f50aac",
   "metadata": {},
   "outputs": [],
   "source": [
    "_, infl = model.forward(X_valid)\n",
    "mse = mse_loss(y_valid, infl)\n",
    "\n",
    "predicted_labels = np.argmax(infl, axis=1)\n",
    "acc = accuracy(y_valid, predicted_labels)"
   ]
  },
  {
   "cell_type": "code",
   "execution_count": 46,
   "id": "d20097d0",
   "metadata": {},
   "outputs": [
    {
     "name": "stdout",
     "output_type": "stream",
     "text": [
      "Initial validation MSE: 0.0\n",
      "Initial validation accuracy: 96.3%\n"
     ]
    }
   ],
   "source": [
    "print(f'Initial validation MSE: {mse:.1f}')\n",
    "print(f'Initial validation accuracy: {acc*100:.1f}%')"
   ]
  },
  {
   "cell_type": "code",
   "execution_count": 47,
   "id": "6ca2039c",
   "metadata": {},
   "outputs": [
    {
     "name": "stdout",
     "output_type": "stream",
     "text": [
      "Initial validation MSE: 0.0\n",
      "Initial validation accuracy: 95.9%\n"
     ]
    }
   ],
   "source": [
    "_, infl = model.forward(X_test)\n",
    "mse = mse_loss(y_test, infl)\n",
    "\n",
    "predicted_labels = np.argmax(infl, axis=1)\n",
    "acc = accuracy(y_test, predicted_labels)\n",
    "print(f'Initial validation MSE: {mse:.1f}')\n",
    "print(f'Initial validation accuracy: {acc*100:.1f}%')"
   ]
  },
  {
   "cell_type": "code",
   "execution_count": 48,
   "id": "c016a537",
   "metadata": {},
   "outputs": [],
   "source": [
    "misclassified_images = X_test[y_test != predicted_labels][:25]\n",
    "misclassified_labels = predicted_labels[y_test != predicted_labels][:25]\n",
    "correct_labels1 = y_test[y_test != predicted_labels][:25]"
   ]
  },
  {
   "cell_type": "code",
   "execution_count": 49,
   "id": "fff417f4",
   "metadata": {},
   "outputs": [],
   "source": [
    "classified_images = X_test[y_test == predicted_labels][:25]\n",
    "classified_labels =  predicted_labels[y_test != predicted_labels][:25]\n",
    "correct_labels2 =  predicted_labels[y_test != predicted_labels][:25]"
   ]
  },
  {
   "cell_type": "code",
   "execution_count": 50,
   "id": "e6c33d2d",
   "metadata": {},
   "outputs": [],
   "source": [
    "import matplotlib.pyplot as plt"
   ]
  },
  {
   "cell_type": "code",
   "execution_count": 51,
   "id": "929e9e01",
   "metadata": {},
   "outputs": [
    {
     "data": {
      "image/png": "[encoded data removed]",
      "text/plain": [
       "<Figure size 800x800 with 25 Axes>"
      ]
     },
     "metadata": {},
     "output_type": "display_data"
    }
   ],
   "source": [
    "fig, ax = plt.subplots(nrows=5, ncols=5,\n",
    "                       sharex=True, sharey=True, figsize=(8, 8))\n",
    "ax = ax.flatten()\n",
    "for i in range(25):\n",
    "    img = misclassified_images[i].reshape(28, 28)\n",
    "    ax[i].imshow(img, cmap='Greys', interpolation='nearest')\n",
    "    ax[i].set_title(f'{i+1}) '\n",
    "                    f'True: {correct_labels1[i]}\\n'\n",
    "                    f' Predicted: {misclassified_labels[i]}')\n",
    "\n",
    "ax[0].set_xticks([])\n",
    "ax[0].set_yticks([])\n",
    "plt.tight_layout()\n",
    "#plt.savefig('figures/11_09.png', dpi=300)\n",
    "plt.show()"
   ]
  },
  {
   "cell_type": "code",
   "execution_count": 52,
   "id": "dc6c2a02",
   "metadata": {},
   "outputs": [
    {
     "data": {
      "image/png": "[encoded data removed]",
      "text/plain": [
       "<Figure size 800x800 with 25 Axes>"
      ]
     },
     "metadata": {},
     "output_type": "display_data"
    }
   ],
   "source": [
    "fig, ax = plt.subplots(nrows=5, ncols=5,\n",
    "                       sharex=True, sharey=True, figsize=(8, 8))\n",
    "ax = ax.flatten()\n",
    "for i in range(25):\n",
    "    img = classified_images[i].reshape(28, 28)\n",
    "    ax[i].imshow(img, cmap='Greys', interpolation='nearest')\n",
    "    ax[i].set_title(f'{i+1}) '\n",
    "                    f'True: {correct_labels2[i]}\\n'\n",
    "                    f' Predicted: {classified_labels[i]}')\n",
    "\n",
    "ax[0].set_xticks([])\n",
    "ax[0].set_yticks([])\n",
    "plt.tight_layout()\n",
    "#plt.savefig('figures/11_09.png', dpi=300)\n",
    "plt.show()"
   ]
  },
  {
   "cell_type": "code",
   "execution_count": 53,
   "id": "6c9c818d",
   "metadata": {},
   "outputs": [],
   "source": [
    "import numpy as np\n",
    "import torch\n",
    "import torch.nn as nn\n",
    "import pandas as pd\n",
    "\n",
    "from IPython.display import Image\n",
    "import torchvision\n",
    "from torchvision import transforms\n",
    "from torch.nn.functional import one_hot\n",
    "\n",
    "from torch.utils.data import DataLoader, TensorDataset\n",
    "\n",
    "\n",
    "image_path = './'\n",
    "transform = transforms.Compose([transforms.ToTensor()])\n",
    "\n",
    "mnist_train_dataset = torchvision.datasets.MNIST(root=image_path,\n",
    "                                           train=True,\n",
    "                                           transform=transform,\n",
    "                                           download=True)\n",
    "mnist_test_dataset = torchvision.datasets.MNIST(root=image_path,\n",
    "                                           train=False,\n",
    "                                           transform=transform,\n",
    "                                           download=False)\n",
    "\n",
    "batch_size = 64\n",
    "torch.manual_seed(1)\n",
    "\n",
    "train_dl = DataLoader(mnist_train_dataset, batch_size, shuffle=True)"
   ]
  },
  {
   "cell_type": "code",
   "execution_count": 54,
   "id": "0acdf99b",
   "metadata": {},
   "outputs": [
    {
     "data": {
      "text/plain": [
       "Sequential(\n",
       "  (0): Flatten(start_dim=1, end_dim=-1)\n",
       "  (1): Linear(in_features=784, out_features=50, bias=True)\n",
       "  (2): ReLU()\n",
       "  (3): Linear(in_features=50, out_features=25, bias=True)\n",
       "  (4): ReLU()\n",
       "  (5): Linear(in_features=25, out_features=10, bias=True)\n",
       "  (6): Softmax(dim=1)\n",
       ")"
      ]
     },
     "execution_count": 54,
     "metadata": {},
     "output_type": "execute_result"
    }
   ],
   "source": [
    "hidden_units = [50, 25]\n",
    "image_size = mnist_train_dataset[0][0].shape\n",
    "input_size = image_size[0] * image_size[1] * image_size[2]\n",
    "\n",
    "all_layers = [nn.Flatten()]\n",
    "for hidden_unit in hidden_units:\n",
    "    layer = nn.Linear(input_size, hidden_unit)\n",
    "    all_layers.append(layer)\n",
    "    all_layers.append(nn.ReLU())\n",
    "    input_size = hidden_unit\n",
    "\n",
    "all_layers.append(nn.Linear(hidden_units[-1], 10))\n",
    "all_layers.append(torch.nn.Softmax(1))\n",
    "model = nn.Sequential(*all_layers)\n",
    "\n",
    "model"
   ]
  },
  {
   "cell_type": "code",
   "execution_count": 55,
   "id": "911a0892",
   "metadata": {},
   "outputs": [],
   "source": [
    "class torch_NeuralNetMLP(nn.Module):\n",
    "    def __init__(self, hidden_units):\n",
    "        super().__init__()\n",
    "        self.hidden_units = hidden_units\n",
    "        image_size = mnist_train_dataset[0][0].shape\n",
    "        input_size = image_size[0] * image_size[1] * image_size[2]\n",
    "\n",
    "        all_layers = [nn.Flatten()]\n",
    "        for hidden_unit in self.hidden_units:\n",
    "            layer = nn.Linear(input_size, hidden_unit)\n",
    "            all_layers.append(layer)\n",
    "            all_layers.append(nn.ReLU())\n",
    "            input_size = hidden_unit\n",
    "\n",
    "        all_layers.append(nn.Linear(hidden_units[-1], 10))\n",
    "        all_layers.append(torch.nn.Softmax(1))\n",
    "        self.model = nn.Sequential(*all_layers)\n",
    "\n",
    "    def forward(self, x):\n",
    "        return self.model(x)\n",
    "\n",
    "\n",
    "hidden_units = [50, 25]\n",
    "\n",
    "torch_model = torch_NeuralNetMLP(hidden_units=hidden_units)"
   ]
  },
  {
   "cell_type": "code",
   "execution_count": 56,
   "id": "f1053f3f",
   "metadata": {},
   "outputs": [],
   "source": [
    "loss_fn = nn.CrossEntropyLoss()\n",
    "optimizer = torch.optim.Adam(model.parameters(), lr=0.001)\n"
   ]
  },
  {
   "cell_type": "code",
   "execution_count": 80,
   "id": "ab1c0eb3",
   "metadata": {},
   "outputs": [
    {
     "name": "stdout",
     "output_type": "stream",
     "text": [
      "Epoch 0  Accuracy 0.9907\n",
      "Epoch 1  Accuracy 0.9911\n",
      "Epoch 2  Accuracy 0.9911\n",
      "Epoch 3  Accuracy 0.9911\n",
      "Epoch 4  Accuracy 0.9911\n",
      "Epoch 5  Accuracy 0.9910\n",
      "Epoch 6  Accuracy 0.9914\n",
      "Epoch 7  Accuracy 0.9912\n",
      "Epoch 8  Accuracy 0.9906\n",
      "Epoch 9  Accuracy 0.9916\n",
      "Epoch 10  Accuracy 0.9911\n",
      "Epoch 11  Accuracy 0.9913\n",
      "Epoch 12  Accuracy 0.9905\n",
      "Epoch 13  Accuracy 0.9909\n",
      "Epoch 14  Accuracy 0.9911\n",
      "Epoch 15  Accuracy 0.9917\n",
      "Epoch 16  Accuracy 0.9906\n",
      "Epoch 17  Accuracy 0.9915\n",
      "Epoch 18  Accuracy 0.9914\n",
      "Epoch 19  Accuracy 0.9916\n",
      "Epoch 20  Accuracy 0.9909\n",
      "Epoch 21  Accuracy 0.9913\n",
      "Epoch 22  Accuracy 0.9918\n",
      "Epoch 23  Accuracy 0.9916\n",
      "Epoch 24  Accuracy 0.9919\n",
      "Epoch 25  Accuracy 0.9912\n",
      "Epoch 26  Accuracy 0.9912\n",
      "Epoch 27  Accuracy 0.9917\n",
      "Epoch 28  Accuracy 0.9917\n",
      "Epoch 29  Accuracy 0.9914\n",
      "Epoch 30  Accuracy 0.9918\n",
      "Epoch 31  Accuracy 0.9917\n",
      "Epoch 32  Accuracy 0.9916\n",
      "Epoch 33  Accuracy 0.9917\n",
      "Epoch 34  Accuracy 0.9912\n",
      "Epoch 35  Accuracy 0.9915\n",
      "Epoch 36  Accuracy 0.9919\n",
      "Epoch 37  Accuracy 0.9916\n",
      "Epoch 38  Accuracy 0.9915\n",
      "Epoch 39  Accuracy 0.9916\n",
      "Epoch 40  Accuracy 0.9921\n",
      "Epoch 41  Accuracy 0.9915\n",
      "Epoch 42  Accuracy 0.9921\n",
      "Epoch 43  Accuracy 0.9920\n",
      "Epoch 44  Accuracy 0.9911\n",
      "Epoch 45  Accuracy 0.9923\n",
      "Epoch 46  Accuracy 0.9920\n",
      "Epoch 47  Accuracy 0.9918\n",
      "Epoch 48  Accuracy 0.9915\n",
      "Epoch 49  Accuracy 0.9918\n"
     ]
    }
   ],
   "source": [
    "torch.manual_seed(1)\n",
    "num_epochs = 50\n",
    "accuracy_hist_train_ = []\n",
    "for epoch in range(num_epochs):\n",
    "    accuracy_hist_train = 0\n",
    "\n",
    "    for x_batch, y_batch in train_dl:\n",
    "        pred = model(x_batch)\n",
    "        loss = loss_fn(pred, y_batch)\n",
    "        loss.backward()\n",
    "        optimizer.step()\n",
    "        optimizer.zero_grad()\n",
    "        is_correct = (torch.argmax(pred, dim=1) == y_batch).float()\n",
    "        accuracy_hist_train += is_correct.sum()\n",
    "    accuracy_hist_train /= len(train_dl.dataset)\n",
    "    accuracy_hist_train_.append(accuracy_hist_train)\n",
    "    print(f'Epoch {epoch}  Accuracy {accuracy_hist_train:.4f}')"
   ]
  },
  {
   "cell_type": "code",
   "execution_count": 121,
   "id": "b099695d",
   "metadata": {},
   "outputs": [
    {
     "data": {
      "application/vnd.plotly.v1+json": {
       "config": {
        "plotlyServerURL": "https://plot.ly"
       },
       "data": [
        {
         "type": "scatter",
         "x": {
          "bdata": "AAECAwQFBgcICQoLDA0ODxAREhMUFRYXGBkaGxwdHh8gISIjJCUmJygpKissLS4vMDE=",
          "dtype": "i1"
         },
         "y": [
          0.9906833171844482,
          0.9911166429519653,
          0.9910666942596436,
          0.9911166429519653,
          0.9910666942596436,
          0.9910333156585693,
          0.9913833141326904,
          0.991183340549469,
          0.9906499981880188,
          0.991599977016449,
          0.9910833239555359,
          0.991266667842865,
          0.9904833436012268,
          0.9909499883651733,
          0.991100013256073,
          0.9916999936103821,
          0.9906499981880188,
          0.9915000200271606,
          0.9914000034332275,
          0.9916499853134155,
          0.9909499883651733,
          0.9912833571434021,
          0.9917666912078857,
          0.9915500283241272,
          0.9918500185012817,
          0.9911500215530396,
          0.9911999702453613,
          0.991683304309845,
          0.9916999936103821,
          0.9913833141326904,
          0.9918333292007446,
          0.991683304309845,
          0.9916499853134155,
          0.9917166829109192,
          0.9912499785423279,
          0.9915000200271606,
          0.9919000267982483,
          0.9916499853134155,
          0.9915333390235901,
          0.991599977016449,
          0.9921000003814697,
          0.991516649723053,
          0.9921333193778992,
          0.9919666647911072,
          0.9911166429519653,
          0.9923333525657654,
          0.9919999837875366,
          0.9918000102043152,
          0.991516649723053,
          0.9918000102043152
         ]
        }
       ],
       "layout": {
        "font": {
         "size": 20
        },
        "height": 500,
        "template": {
         "data": {
          "bar": [
           {
            "error_x": {
             "color": "#2a3f5f"
            },
            "error_y": {
             "color": "#2a3f5f"
            },
            "marker": {
             "line": {
              "color": "#E5ECF6",
              "width": 0.5
             },
             "pattern": {
              "fillmode": "overlay",
              "size": 10,
              "solidity": 0.2
             }
            },
            "type": "bar"
           }
          ],
          "barpolar": [
           {
            "marker": {
             "line": {
              "color": "#E5ECF6",
              "width": 0.5
             },
             "pattern": {
              "fillmode": "overlay",
              "size": 10,
              "solidity": 0.2
             }
            },
            "type": "barpolar"
           }
          ],
          "carpet": [
           {
            "aaxis": {
             "endlinecolor": "#2a3f5f",
             "gridcolor": "white",
             "linecolor": "white",
             "minorgridcolor": "white",
             "startlinecolor": "#2a3f5f"
            },
            "baxis": {
             "endlinecolor": "#2a3f5f",
             "gridcolor": "white",
             "linecolor": "white",
             "minorgridcolor": "white",
             "startlinecolor": "#2a3f5f"
            },
            "type": "carpet"
           }
          ],
          "choropleth": [
           {
            "colorbar": {
             "outlinewidth": 0,
             "ticks": ""
            },
            "type": "choropleth"
           }
          ],
          "contour": [
           {
            "colorbar": {
             "outlinewidth": 0,
             "ticks": ""
            },
            "colorscale": [
             [
              0,
              "#0d0887"
             ],
             [
              0.1111111111111111,
              "#46039f"
             ],
             [
              0.2222222222222222,
              "#7201a8"
             ],
             [
              0.3333333333333333,
              "#9c179e"
             ],
             [
              0.4444444444444444,
              "#bd3786"
             ],
             [
              0.5555555555555556,
              "#d8576b"
             ],
             [
              0.6666666666666666,
              "#ed7953"
             ],
             [
              0.7777777777777778,
              "#fb9f3a"
             ],
             [
              0.8888888888888888,
              "#fdca26"
             ],
             [
              1,
              "#f0f921"
             ]
            ],
            "type": "contour"
           }
          ],
          "contourcarpet": [
           {
            "colorbar": {
             "outlinewidth": 0,
             "ticks": ""
            },
            "type": "contourcarpet"
           }
          ],
          "heatmap": [
           {
            "colorbar": {
             "outlinewidth": 0,
             "ticks": ""
            },
            "colorscale": [
             [
              0,
              "#0d0887"
             ],
             [
              0.1111111111111111,
              "#46039f"
             ],
             [
              0.2222222222222222,
              "#7201a8"
             ],
             [
              0.3333333333333333,
              "#9c179e"
             ],
             [
              0.4444444444444444,
              "#bd3786"
             ],
             [
              0.5555555555555556,
              "#d8576b"
             ],
             [
              0.6666666666666666,
              "#ed7953"
             ],
             [
              0.7777777777777778,
              "#fb9f3a"
             ],
             [
              0.8888888888888888,
              "#fdca26"
             ],
             [
              1,
              "#f0f921"
             ]
            ],
            "type": "heatmap"
           }
          ],
          "histogram": [
           {
            "marker": {
             "pattern": {
              "fillmode": "overlay",
              "size": 10,
              "solidity": 0.2
             }
            },
            "type": "histogram"
           }
          ],
          "histogram2d": [
           {
            "colorbar": {
             "outlinewidth": 0,
             "ticks": ""
            },
            "colorscale": [
             [
              0,
              "#0d0887"
             ],
             [
              0.1111111111111111,
              "#46039f"
             ],
             [
              0.2222222222222222,
              "#7201a8"
             ],
             [
              0.3333333333333333,
              "#9c179e"
             ],
             [
              0.4444444444444444,
              "#bd3786"
             ],
             [
              0.5555555555555556,
              "#d8576b"
             ],
             [
              0.6666666666666666,
              "#ed7953"
             ],
             [
              0.7777777777777778,
              "#fb9f3a"
             ],
             [
              0.8888888888888888,
              "#fdca26"
             ],
             [
              1,
              "#f0f921"
             ]
            ],
            "type": "histogram2d"
           }
          ],
          "histogram2dcontour": [
           {
            "colorbar": {
             "outlinewidth": 0,
             "ticks": ""
            },
            "colorscale": [
             [
              0,
              "#0d0887"
             ],
             [
              0.1111111111111111,
              "#46039f"
             ],
             [
              0.2222222222222222,
              "#7201a8"
             ],
             [
              0.3333333333333333,
              "#9c179e"
             ],
             [
              0.4444444444444444,
              "#bd3786"
             ],
             [
              0.5555555555555556,
              "#d8576b"
             ],
             [
              0.6666666666666666,
              "#ed7953"
             ],
             [
              0.7777777777777778,
              "#fb9f3a"
             ],
             [
              0.8888888888888888,
              "#fdca26"
             ],
             [
              1,
              "#f0f921"
             ]
            ],
            "type": "histogram2dcontour"
           }
          ],
          "mesh3d": [
           {
            "colorbar": {
             "outlinewidth": 0,
             "ticks": ""
            },
            "type": "mesh3d"
           }
          ],
          "parcoords": [
           {
            "line": {
             "colorbar": {
              "outlinewidth": 0,
              "ticks": ""
             }
            },
            "type": "parcoords"
           }
          ],
          "pie": [
           {
            "automargin": true,
            "type": "pie"
           }
          ],
          "scatter": [
           {
            "fillpattern": {
             "fillmode": "overlay",
             "size": 10,
             "solidity": 0.2
            },
            "type": "scatter"
           }
          ],
          "scatter3d": [
           {
            "line": {
             "colorbar": {
              "outlinewidth": 0,
              "ticks": ""
             }
            },
            "marker": {
             "colorbar": {
              "outlinewidth": 0,
              "ticks": ""
             }
            },
            "type": "scatter3d"
           }
          ],
          "scattercarpet": [
           {
            "marker": {
             "colorbar": {
              "outlinewidth": 0,
              "ticks": ""
             }
            },
            "type": "scattercarpet"
           }
          ],
          "scattergeo": [
           {
            "marker": {
             "colorbar": {
              "outlinewidth": 0,
              "ticks": ""
             }
            },
            "type": "scattergeo"
           }
          ],
          "scattergl": [
           {
            "marker": {
             "colorbar": {
              "outlinewidth": 0,
              "ticks": ""
             }
            },
            "type": "scattergl"
           }
          ],
          "scattermap": [
           {
            "marker": {
             "colorbar": {
              "outlinewidth": 0,
              "ticks": ""
             }
            },
            "type": "scattermap"
           }
          ],
          "scattermapbox": [
           {
            "marker": {
             "colorbar": {
              "outlinewidth": 0,
              "ticks": ""
             }
            },
            "type": "scattermapbox"
           }
          ],
          "scatterpolar": [
           {
            "marker": {
             "colorbar": {
              "outlinewidth": 0,
              "ticks": ""
             }
            },
            "type": "scatterpolar"
           }
          ],
          "scatterpolargl": [
           {
            "marker": {
             "colorbar": {
              "outlinewidth": 0,
              "ticks": ""
             }
            },
            "type": "scatterpolargl"
           }
          ],
          "scatterternary": [
           {
            "marker": {
             "colorbar": {
              "outlinewidth": 0,
              "ticks": ""
             }
            },
            "type": "scatterternary"
           }
          ],
          "surface": [
           {
            "colorbar": {
             "outlinewidth": 0,
             "ticks": ""
            },
            "colorscale": [
             [
              0,
              "#0d0887"
             ],
             [
              0.1111111111111111,
              "#46039f"
             ],
             [
              0.2222222222222222,
              "#7201a8"
             ],
             [
              0.3333333333333333,
              "#9c179e"
             ],
             [
              0.4444444444444444,
              "#bd3786"
             ],
             [
              0.5555555555555556,
              "#d8576b"
             ],
             [
              0.6666666666666666,
              "#ed7953"
             ],
             [
              0.7777777777777778,
              "#fb9f3a"
             ],
             [
              0.8888888888888888,
              "#fdca26"
             ],
             [
              1,
              "#f0f921"
             ]
            ],
            "type": "surface"
           }
          ],
          "table": [
           {
            "cells": {
             "fill": {
              "color": "#EBF0F8"
             },
             "line": {
              "color": "white"
             }
            },
            "header": {
             "fill": {
              "color": "#C8D4E3"
             },
             "line": {
              "color": "white"
             }
            },
            "type": "table"
           }
          ]
         },
         "layout": {
          "annotationdefaults": {
           "arrowcolor": "#2a3f5f",
           "arrowhead": 0,
           "arrowwidth": 1
          },
          "autotypenumbers": "strict",
          "coloraxis": {
           "colorbar": {
            "outlinewidth": 0,
            "ticks": ""
           }
          },
          "colorscale": {
           "diverging": [
            [
             0,
             "#8e0152"
            ],
            [
             0.1,
             "#c51b7d"
            ],
            [
             0.2,
             "#de77ae"
            ],
            [
             0.3,
             "#f1b6da"
            ],
            [
             0.4,
             "#fde0ef"
            ],
            [
             0.5,
             "#f7f7f7"
            ],
            [
             0.6,
             "#e6f5d0"
            ],
            [
             0.7,
             "#b8e186"
            ],
            [
             0.8,
             "#7fbc41"
            ],
            [
             0.9,
             "#4d9221"
            ],
            [
             1,
             "#276419"
            ]
           ],
           "sequential": [
            [
             0,
             "#0d0887"
            ],
            [
             0.1111111111111111,
             "#46039f"
            ],
            [
             0.2222222222222222,
             "#7201a8"
            ],
            [
             0.3333333333333333,
             "#9c179e"
            ],
            [
             0.4444444444444444,
             "#bd3786"
            ],
            [
             0.5555555555555556,
             "#d8576b"
            ],
            [
             0.6666666666666666,
             "#ed7953"
            ],
            [
             0.7777777777777778,
             "#fb9f3a"
            ],
            [
             0.8888888888888888,
             "#fdca26"
            ],
            [
             1,
             "#f0f921"
            ]
           ],
           "sequentialminus": [
            [
             0,
             "#0d0887"
            ],
            [
             0.1111111111111111,
             "#46039f"
            ],
            [
             0.2222222222222222,
             "#7201a8"
            ],
            [
             0.3333333333333333,
             "#9c179e"
            ],
            [
             0.4444444444444444,
             "#bd3786"
            ],
            [
             0.5555555555555556,
             "#d8576b"
            ],
            [
             0.6666666666666666,
             "#ed7953"
            ],
            [
             0.7777777777777778,
             "#fb9f3a"
            ],
            [
             0.8888888888888888,
             "#fdca26"
            ],
            [
             1,
             "#f0f921"
            ]
           ]
          },
          "colorway": [
           "#636efa",
           "#EF553B",
           "#00cc96",
           "#ab63fa",
           "#FFA15A",
           "#19d3f3",
           "#FF6692",
           "#B6E880",
           "#FF97FF",
           "#FECB52"
          ],
          "font": {
           "color": "#2a3f5f"
          },
          "geo": {
           "bgcolor": "white",
           "lakecolor": "white",
           "landcolor": "#E5ECF6",
           "showlakes": true,
           "showland": true,
           "subunitcolor": "white"
          },
          "hoverlabel": {
           "align": "left"
          },
          "hovermode": "closest",
          "mapbox": {
           "style": "light"
          },
          "paper_bgcolor": "white",
          "plot_bgcolor": "#E5ECF6",
          "polar": {
           "angularaxis": {
            "gridcolor": "white",
            "linecolor": "white",
            "ticks": ""
           },
           "bgcolor": "#E5ECF6",
           "radialaxis": {
            "gridcolor": "white",
            "linecolor": "white",
            "ticks": ""
           }
          },
          "scene": {
           "xaxis": {
            "backgroundcolor": "#E5ECF6",
            "gridcolor": "white",
            "gridwidth": 2,
            "linecolor": "white",
            "showbackground": true,
            "ticks": "",
            "zerolinecolor": "white"
           },
           "yaxis": {
            "backgroundcolor": "#E5ECF6",
            "gridcolor": "white",
            "gridwidth": 2,
            "linecolor": "white",
            "showbackground": true,
            "ticks": "",
            "zerolinecolor": "white"
           },
           "zaxis": {
            "backgroundcolor": "#E5ECF6",
            "gridcolor": "white",
            "gridwidth": 2,
            "linecolor": "white",
            "showbackground": true,
            "ticks": "",
            "zerolinecolor": "white"
           }
          },
          "shapedefaults": {
           "line": {
            "color": "#2a3f5f"
           }
          },
          "ternary": {
           "aaxis": {
            "gridcolor": "white",
            "linecolor": "white",
            "ticks": ""
           },
           "baxis": {
            "gridcolor": "white",
            "linecolor": "white",
            "ticks": ""
           },
           "bgcolor": "#E5ECF6",
           "caxis": {
            "gridcolor": "white",
            "linecolor": "white",
            "ticks": ""
           }
          },
          "title": {
           "x": 0.05
          },
          "xaxis": {
           "automargin": true,
           "gridcolor": "white",
           "linecolor": "white",
           "ticks": "",
           "title": {
            "standoff": 15
           },
           "zerolinecolor": "white",
           "zerolinewidth": 2
          },
          "yaxis": {
           "automargin": true,
           "gridcolor": "white",
           "linecolor": "white",
           "ticks": "",
           "title": {
            "standoff": 15
           },
           "zerolinecolor": "white",
           "zerolinewidth": 2
          }
         }
        },
        "title": {
         "text": "Accuracy_train"
        },
        "width": 1000,
        "xaxis": {
         "automargin": true,
         "title": {
          "text": "Epoch"
         }
        },
        "yaxis": {
         "automargin": true,
         "title": {
          "text": "Accuracy"
         }
        }
       }
      }
     },
     "metadata": {},
     "output_type": "display_data"
    }
   ],
   "source": [
    "import plotly\n",
    "import plotly.graph_objs as go\n",
    "import plotly.express as px\n",
    "layout = go.Layout(\n",
    "    width=1000,\n",
    "    height=500,\n",
    "    title=\"Accuracy_train\",\n",
    "    xaxis=dict(title='Epoch'), font=dict(size=20),\n",
    "    yaxis=dict(title='Accuracy')\n",
    ")\n",
    "\n",
    "fig = go.Figure(layout=layout)\n",
    "fig.add_trace(go.Scatter(x=np.arange(0, 50), y=accuracy_hist_train_))\n",
    "fig.update_yaxes(automargin=True)\n",
    "fig.update_xaxes(automargin=True)\n",
    "fig.show()"
   ]
  },
  {
   "cell_type": "code",
   "execution_count": 122,
   "id": "9f3480a6",
   "metadata": {},
   "outputs": [
    {
     "name": "stdout",
     "output_type": "stream",
     "text": [
      "Test accuracy: 0.9728\n"
     ]
    }
   ],
   "source": [
    "pred = model(mnist_test_dataset.data / 255.)\n",
    "is_correct = (torch.argmax(pred, dim=1) == mnist_test_dataset.targets).float()\n",
    "print(f'Test accuracy: {is_correct.mean():.4f}')\n"
   ]
  }
 ],
 "metadata": {
  "kernelspec": {
   "display_name": ".venv",
   "language": "python",
   "name": "python3"
  },
  "language_info": {
   "codemirror_mode": {
    "name": "ipython",
    "version": 3
   },
   "file_extension": ".py",
   "mimetype": "text/x-python",
   "name": "python",
   "nbconvert_exporter": "python",
   "pygments_lexer": "ipython3",
   "version": "3.12.3"
  }
 },
 "nbformat": 4,
 "nbformat_minor": 5
}
